{
  "cells": [
    {
      "cell_type": "code",
      "execution_count": null,
      "metadata": {
        "collapsed": false
      },
      "outputs": [],
      "source": [
        "%matplotlib inline"
      ]
    },
    {
      "cell_type": "markdown",
      "metadata": {},
      "source": [
        "\n# Omnbius Graph embedding\n\nThis demo shows you how to run Omnibus Embedding on multiview data. Omnibus\nembedding is originally a multigraph algorithm. The purpose of omnibus\nembedding is to find a Euclidean representation (latent position) of multiple\ngraphs. The embedded latent positions live in the same canonical space allowing\nus to easily compare the embedded graphs to each other without aligning\nresults. You can read more about both the implementation of Omnibus embedding\nused and the algorithm itself from the\n[graspologic](https://github.com/microsoft/graspologic/blob/dev/graspologic/    embed/omni.py) package.\nUnlike graphs however, multiview data can consist of arbitrary arrays of\ndifferent dimensions. This represents an additional challenge of comparing the\ninformation contained in each view. An effective solution is to first compute\nthe **dissimilarity matrix** for each view. Assuming each view has *n* samples,\nwe will be left with an *n x n* matrix for each view. If the distance function\nused to compute these matrices is symmetric, the dissimilarity matrices will\nalso be symmetric and we are left with \"graph-like\" objects. Omnibus embedding\ncan then be applied and the resulting embeddings show whether views give\nsimilar or different information.\n\nBelow, we show the results of Omnibus embedding on multiview data when the two\nviews are very similar and very different. We then apply Omnibus to two\ndifferent views in the UCI handwritten digits dataset.\n"
      ]
    },
    {
      "cell_type": "code",
      "execution_count": null,
      "metadata": {
        "collapsed": false
      },
      "outputs": [],
      "source": [
        "from mvlearn.datasets.base import load_UCImultifeature\nimport numpy as np\nfrom matplotlib import pyplot as plt\nfrom mvlearn.embed import omnibus"
      ]
    },
    {
      "cell_type": "markdown",
      "metadata": {},
      "source": [
        "## Case 1: two identical views\nFor this setting, we generate two identical numpy matrices as our views.\nSince the information is identical in each view, the resulting embedded views\nshould also be similar. We run omnibus on default parameters.\n\n"
      ]
    },
    {
      "cell_type": "code",
      "execution_count": null,
      "metadata": {
        "collapsed": false
      },
      "outputs": [],
      "source": [
        "# 100 x 50 matrices\nX_1 = np.random.rand(100, 50)\nX_2 = X_1.copy()\n\nXs = [X_1, X_2]\n\n# Running omnibus\nembedder = omnibus.Omnibus()\nembeddings = embedder.fit_transform(Xs)"
      ]
    },
    {
      "cell_type": "markdown",
      "metadata": {},
      "source": [
        "### Visualizing the results\n\n"
      ]
    },
    {
      "cell_type": "code",
      "execution_count": null,
      "metadata": {
        "collapsed": false
      },
      "outputs": [],
      "source": [
        "Xhat1, Xhat2 = embeddings\n\nfig, ax = plt.subplots(figsize=(10, 10))\nct = ax.scatter(Xhat1[:, 0], Xhat1[:, 1], marker='s',\n                label='View 1', cmap=\"tab10\", s=100)\nax.scatter(Xhat2[:, 0], Xhat2[:, 1], marker='.',\n           label='View 2', cmap=\"tab10\", s=100)\nplt.legend(fontsize=20)\n\n# Plot lines between matched pairs of points\nfor i in range(50):\n    idx = np.random.randint(len(Xhat1), size=1)\n    ax.plot([Xhat1[idx, 0], Xhat2[idx, 0]], [\n            Xhat1[idx, 1], Xhat2[idx, 1]], 'black', alpha=0.15)\nplt.xlabel(\"Component 1\", fontsize=20)\nplt.ylabel(\"Component 2\", fontsize=20)\nplt.tight_layout()\nax.set_title('Latent Positions from Omnibus Embedding', fontsize=20)\nplt.show()\n\n# As expected, the embeddings are identical since the views are the same."
      ]
    },
    {
      "cell_type": "markdown",
      "metadata": {},
      "source": [
        "## Case 2: two unidentical views\nNow let's see what happens when the views are not identical.\n\n"
      ]
    },
    {
      "cell_type": "code",
      "execution_count": null,
      "metadata": {
        "collapsed": false
      },
      "outputs": [],
      "source": [
        "X_1 = np.random.rand(100, 50)\n# Second view has different number of features\nX_2 = np.random.rand(100, 100)\n\nXs = [X_1, X_2]\n\n# Running omnibus\nembedder = omnibus.Omnibus()\nembeddings = embedder.fit_transform(Xs)"
      ]
    },
    {
      "cell_type": "markdown",
      "metadata": {},
      "source": [
        "### Visualizing the results\n\n"
      ]
    },
    {
      "cell_type": "code",
      "execution_count": null,
      "metadata": {
        "collapsed": false
      },
      "outputs": [],
      "source": [
        "Xhat1, Xhat2 = embeddings\n\nfig, ax = plt.subplots(figsize=(10, 10))\nct = ax.scatter(Xhat1[:, 0], Xhat1[:, 1], marker='s',\n                label='View 1', cmap=\"tab10\", s=100)\nax.scatter(Xhat2[:, 0], Xhat2[:, 1], marker='.',\n           label='View 2', cmap=\"tab10\", s=100)\nplt.legend(fontsize=20)\n\n# Plot lines between matched pairs of points\nfor i in range(50):\n    idx = np.random.randint(len(Xhat1), size=1)\n    ax.plot([Xhat1[idx, 0], Xhat2[idx, 0]], [\n            Xhat1[idx, 1], Xhat2[idx, 1]], 'black', alpha=0.15)\nplt.xlabel(\"Component 1\", fontsize=20)\nplt.ylabel(\"Component 2\", fontsize=20)\nplt.tight_layout()\nax.set_title('Latent Positions from Omnibus Embedding', fontsize=20)\nplt.show()\n\n# Here, we see that the views are clearly separated suggeseting the views\n# represent different information. Lines are drawn between corresponding\n# samples in the two views."
      ]
    },
    {
      "cell_type": "markdown",
      "metadata": {},
      "source": [
        "## UCI Digits Dataset\nFinally, we run Omnibus on the [UCI Multiple Features Digits\nDataset](https://archive.ics.uci.edu/ml/datasets/Multiple+Features). We use\nthe Fourier coefficient and profile correlation views (View 1 and 2\nrespectively).\n\n"
      ]
    },
    {
      "cell_type": "code",
      "execution_count": null,
      "metadata": {
        "collapsed": false
      },
      "outputs": [],
      "source": [
        "full_data, full_labels = load_UCImultifeature()\nview_1 = full_data[0]\nview_2 = full_data[1]\n\nXs = [view_1, view_2]\n\n# Running omnibus\nembedder = omnibus.Omnibus()\nembeddings = embedder.fit_transform(Xs)"
      ]
    },
    {
      "cell_type": "markdown",
      "metadata": {},
      "source": [
        "### Visualizing the results\nThis time, the points in the plot are colored by digit (0-9). The marker\nsymbols denote which view each sample is from. We randomly plot 500 samples\nto make the plot more readable.\n\n"
      ]
    },
    {
      "cell_type": "code",
      "execution_count": null,
      "metadata": {
        "collapsed": false
      },
      "outputs": [],
      "source": [
        "Xhat1, Xhat2 = embeddings\n\nn = 500\nidxs = np.random.randint(len(Xhat1), size=n)\nXhat1 = Xhat1[idxs, :]\nXhat2 = Xhat2[idxs, :]\nlabels = full_labels[idxs]\n\nfig, ax = plt.subplots(figsize=(10, 10))\nct = ax.scatter(Xhat1[:, 0], Xhat1[:, 1], marker='s',\n                label='View 1 (76 Fourier Coeffs)', c=labels,\n                cmap=\"tab10\", s=100)\nax.scatter(Xhat2[:, 0], Xhat2[:, 1], marker='o',\n           label='View 2 (216 profile correlations)', c=labels,\n           cmap=\"tab10\", s=100)\nplt.legend(fontsize=20)\n# fig.colorbar(ct)\n\n# Plot lines between matched pairs of points\nfor i in range(50):\n    idx = np.random.randint(len(Xhat1), size=1)\n    ax.plot([Xhat1[idx, 0], Xhat2[idx, 0]], [\n            Xhat1[idx, 1], Xhat2[idx, 1]], 'black', alpha=0.15)\nplt.xlabel(\"Component 1\", fontsize=20)\nplt.ylabel(\"Component 2\", fontsize=20)\nplt.tight_layout()\nax.set_title('Latent Positions from Omnibus Embedding', fontsize=20)\nplt.show()"
      ]
    }
  ],
  "metadata": {
    "kernelspec": {
      "display_name": "Python 3",
      "language": "python",
      "name": "python3"
    },
    "language_info": {
      "codemirror_mode": {
        "name": "ipython",
        "version": 3
      },
      "file_extension": ".py",
      "mimetype": "text/x-python",
      "name": "python",
      "nbconvert_exporter": "python",
      "pygments_lexer": "ipython3",
      "version": "3.7.9"
    }
  },
  "nbformat": 4,
  "nbformat_minor": 0
}