{
  "cells": [
    {
      "cell_type": "code",
      "execution_count": null,
      "metadata": {
        "collapsed": false
      },
      "outputs": [],
      "source": [
        "%matplotlib inline"
      ]
    },
    {
      "cell_type": "markdown",
      "metadata": {},
      "source": [
        "\n# Multiview vs. Singleview Spectral Clustering\n\nThis tutorial compares multiview and singleview spectral clustering on\nsynthetic multiview data. By adjusting the distributions of the data we\nbuild intuition about scenarios in which multiview learning provides\nadvantages.\n"
      ]
    },
    {
      "cell_type": "code",
      "execution_count": null,
      "metadata": {
        "collapsed": false
      },
      "outputs": [],
      "source": [
        "# License: MIT\n\nimport numpy as np\nfrom mvlearn.cluster import MultiviewSpectralClustering\nfrom sklearn.cluster import SpectralClustering\nfrom sklearn.datasets import make_moons\nfrom sklearn.metrics import normalized_mutual_info_score as nmi_score\nimport matplotlib.pyplot as plt\nimport warnings\n\nwarnings.simplefilter('ignore')  # Ignore warnings\nRANDOM_SEED = 10"
      ]
    },
    {
      "cell_type": "markdown",
      "metadata": {},
      "source": [
        "## A function to generate 2 views of data for 2 classes\n\nThis function takes parameters for means, variances, and number of samples\nfor class and generates data based on those parameters. The underlying\nprobability distribution of the data is a multivariate gaussian distribution.\n\n"
      ]
    },
    {
      "cell_type": "code",
      "execution_count": null,
      "metadata": {
        "collapsed": false
      },
      "outputs": [],
      "source": [
        "def create_data(seed, vmeans, vvars, num_per_class=500):\n\n    np.random.seed(seed)\n    data = [[], []]\n\n    for view in range(2):\n        for comp in range(len(vmeans[0])):\n            cov = np.eye(2) * vvars[view][comp]\n            comp_samples = np.random.multivariate_normal(\n                vmeans[view][comp], cov, size=num_per_class)\n            data[view].append(comp_samples)\n    for view in range(2):\n        data[view] = np.vstack(data[view])\n\n    labels = list()\n    for ind in range(len(vmeans[0])):\n        labels.append(ind * np.ones(num_per_class,))\n\n    labels = np.concatenate(labels)\n\n    return data, labels"
      ]
    },
    {
      "cell_type": "markdown",
      "metadata": {},
      "source": [
        "## Creating a function to display data and the results of clustering\n\nThe following function plots both views of data given a dataset and\ncorresponding labels.\n\n"
      ]
    },
    {
      "cell_type": "code",
      "execution_count": null,
      "metadata": {
        "collapsed": false
      },
      "outputs": [],
      "source": [
        "def display_plots(pre_title, data, labels):\n    # plot the views\n    fig, ax = plt.subplots(1, 2, figsize=(14, 5))\n    dot_size = 10\n    ax[0].scatter(data[0][:, 0], data[0][:, 1], c=labels, s=dot_size)\n    ax[0].set_title(pre_title + ' View 1')\n    ax[0].axes.get_xaxis().set_visible(False)\n    ax[0].axes.get_yaxis().set_visible(False)\n\n    ax[1].scatter(data[1][:, 0], data[1][:, 1], c=labels, s=dot_size)\n    ax[1].set_title(pre_title + ' View 2')\n    ax[1].axes.get_xaxis().set_visible(False)\n    ax[1].axes.get_yaxis().set_visible(False)\n\n    plt.show()"
      ]
    },
    {
      "cell_type": "markdown",
      "metadata": {},
      "source": [
        "## Funtction for both singleview and multiview spectral clustering\n\n"
      ]
    },
    {
      "cell_type": "code",
      "execution_count": null,
      "metadata": {
        "collapsed": false
      },
      "outputs": [],
      "source": [
        "def perform_clustering(seed, m_data, labels, n_clusters, kernel='rbf'):\n\n    # Single-view spectral clustering\n    # Cluster each view separately\n    s_spectral = SpectralClustering(\n        n_clusters=n_clusters, random_state=RANDOM_SEED,\n        affinity=kernel, n_init=100)\n    s_clusters_v1 = s_spectral.fit_predict(m_data[0])\n    s_clusters_v2 = s_spectral.fit_predict(m_data[1])\n\n    # Concatenate the multiple views into a single view\n    s_data = np.hstack(m_data)\n    s_clusters = s_spectral.fit_predict(s_data)\n\n    # Compute nmi between true class labels and single-view cluster labels\n    s_nmi_v1 = nmi_score(labels, s_clusters_v1)\n    s_nmi_v2 = nmi_score(labels, s_clusters_v2)\n    s_nmi = nmi_score(labels, s_clusters)\n    print('Single-view View 1 NMI Score: {0:.3f}\\n'.format(s_nmi_v1))\n    print('Single-view View 2 NMI Score: {0:.3f}\\n'.format(s_nmi_v2))\n    print('Single-view Concatenated NMI Score: {0:.3f}\\n'.format(s_nmi))\n\n    # Multi-view spectral clustering\n\n    # Use the MultiviewSpectralClustering instance to cluster the data\n    m_spectral = MultiviewSpectralClustering(\n        n_clusters=n_clusters, random_state=RANDOM_SEED,\n        affinity=kernel, n_init=100)\n    m_clusters = m_spectral.fit_predict(m_data)\n\n    # Compute nmi between true class labels and multi-view cluster labels\n    m_nmi = nmi_score(labels, m_clusters)\n    print('Multi-view Concatenated NMI Score: {0:.3f}\\n'.format(m_nmi))\n\n    return m_clusters"
      ]
    },
    {
      "cell_type": "markdown",
      "metadata": {},
      "source": [
        "## General experimentation procedures\n\nFor each of the experiments below, we run both single-view spectral\nclustering and multi-view spectral clustering. For evaluating single-view\nperformance, we run the algorithm on both each view separately and all views\nconcatenated together. We evalaute performance using normalized mutual\ninformation, which is a measure of cluster purity with respect to the true\nlabels. For both algorithms, we use an n_init value of 100, which means that\nwe run each algorithm across 100 random cluster initializations and select\nth best clustering results with respect to cluster inertia (within cluster\nsum-of-squared distances).\n\n"
      ]
    },
    {
      "cell_type": "markdown",
      "metadata": {},
      "source": [
        "## Performance when cluster components in both views are well separated\n\nCluster components 1:\n* Mean: [3, 3] (both views)\n* Covariance = I (both views)\n\nCluster components 2:\n* Mean = [0, 0] (both views)\n* Covariance = I (both views)\n\nAs we can see, multi-view spectral clustering performs better than single-\nview spectral clustering for all 3 inputs.\n\n"
      ]
    },
    {
      "cell_type": "code",
      "execution_count": null,
      "metadata": {
        "collapsed": false
      },
      "outputs": [],
      "source": [
        "v1_means = [[3, 3], [0, 0]]\nv2_means = [[3, 3], [0, 0]]\nv1_vars = [1, 1]\nv2_vars = [1, 1]\nvmeans = [v1_means, v2_means]\nvvars = [v1_vars, v2_vars]\n\ndata, labels = create_data(RANDOM_SEED, vmeans, vvars)\nm_clusters = perform_clustering(RANDOM_SEED, data, labels, 2)\ndisplay_plots('Ground Truth', data, labels)\ndisplay_plots('Multi-view Clustering', data, m_clusters)"
      ]
    },
    {
      "cell_type": "markdown",
      "metadata": {},
      "source": [
        "### Performance when cluster components are relatively inseparable in both views\n\nCluster components 1:\n* Mean: [0.5, 0.5] (both views)\n* Covariance = I (both views)\n\nCluster components 2:\n* Mean = [0, 0] (both views)\n* Covariance = I (both views)\n\nAs we can see, multi-view spectral clustering performs about as poorly as\nsingle-view spectral clustering on all 3 input types.\n\n"
      ]
    },
    {
      "cell_type": "code",
      "execution_count": null,
      "metadata": {
        "collapsed": false
      },
      "outputs": [],
      "source": [
        "v1_means = [[0.5, 0.5], [0, 0]]\nv2_means = [[0.5, 0.5], [0, 0]]\nv1_vars = [1, 1]\nv2_vars = [1, 1]\nvmeans = [v1_means, v2_means]\nvvars = [v1_vars, v2_vars]\n\ndata, labels = create_data(RANDOM_SEED, vmeans, vvars)\nm_clusters = perform_clustering(RANDOM_SEED, data, labels, 2)\ndisplay_plots('Ground Truth', data, labels)\ndisplay_plots('Multi-view Clustering', data, m_clusters)"
      ]
    },
    {
      "cell_type": "markdown",
      "metadata": {},
      "source": [
        "### Performance when cluster components are somewhat separable in both views\n\nCluster components 1:\n* Mean: [1.5, 1.5] (both views)\n* Covariance = I (both views)\n\nCluster components 2:\n* Mean = [0, 0] (both views)\n* Covariance = I (both views)\n\n\nAs we can see, multi-view spectral clustering performs better than single-\nview spectral clustering for all 3 inputs.\n\n"
      ]
    },
    {
      "cell_type": "code",
      "execution_count": null,
      "metadata": {
        "collapsed": false
      },
      "outputs": [],
      "source": [
        "v1_means = [[1.5, 1.5], [0, 0]]\nv2_means = [[1.5, 1.5], [0, 0]]\nv1_vars = [1, 1]\nv2_vars = [1, 1]\nvmeans = [v1_means, v2_means]\nvvars = [v1_vars, v2_vars]\n\ndata, labels = create_data(RANDOM_SEED, vmeans, vvars)\nm_clusters = perform_clustering(RANDOM_SEED, data, labels, 2)\ndisplay_plots('Ground Truth', data, labels)\ndisplay_plots('Multi-view Clustering', data, m_clusters)"
      ]
    },
    {
      "cell_type": "markdown",
      "metadata": {},
      "source": [
        "### Performance when cluster components are highly overlapping in one view\n\nCluster components 1:\n* Mean: View 1 = [0.5, 0.5], View 2 = [2, 2]\n* Covariance = I (both views)\n\nCluster components 2:\n* Mean = [0, 0] (both views)\n* Covariance = I (both views)\n\nAs we can see, multi-view spectral clustering performs worse than single-\nview spectral clustering on the concatenated data and with the best view as\ninput.\n\n"
      ]
    },
    {
      "cell_type": "code",
      "execution_count": null,
      "metadata": {
        "collapsed": false
      },
      "outputs": [],
      "source": [
        "v1_means = [[0.5, 0.5], [0, 0]]\nv2_means = [[2, 2], [0, 0]]\nv1_vars = [1, 1]\nv2_vars = [1, 1]\nvmeans = [v1_means, v2_means]\nvvars = [v1_vars, v2_vars]\n\ndata, labels = create_data(RANDOM_SEED, vmeans, vvars)\nm_clusters = perform_clustering(RANDOM_SEED, data, labels, 2)\ndisplay_plots('Ground Truth', data, labels)\ndisplay_plots('Multi-view Clustering', data, m_clusters)"
      ]
    },
    {
      "cell_type": "markdown",
      "metadata": {},
      "source": [
        "### Performance on moons data\n\nFor this experiment, we use the sklearn make_moons function to make two\ninterleaving half circles. We then use spectral clustering to separate the\nviews. In this experiment, the two views are identical. This experiment\ndemonstrates the efficacy of using multi-view spectral clustering for non-\nconvex clusters.\n\n"
      ]
    },
    {
      "cell_type": "code",
      "execution_count": null,
      "metadata": {
        "collapsed": false
      },
      "outputs": [],
      "source": [
        "def create_moons(seed, num_per_class=500):\n\n    np.random.seed(seed)\n    data = []\n    labels = []\n\n    for view in range(2):\n        v_dat, v_labs = make_moons(\n            num_per_class*2, random_state=seed + view, noise=0.05,\n            shuffle=False)\n        if view == 1:\n            v_dat = v_dat[:, ::-1]\n\n        data.append(v_dat)\n    for ind in range(len(data)):\n        labels.append(ind * np.ones(num_per_class,))\n    labels = np.concatenate(labels)\n\n    return data, labels\n\n\ndata, labels = create_moons(RANDOM_SEED)\nm_clusters = perform_clustering(\n    RANDOM_SEED, data, labels, 2, kernel='nearest_neighbors')\ndisplay_plots('Ground Truth', data, labels)\ndisplay_plots('Multi-view Clustering', data, m_clusters)"
      ]
    },
    {
      "cell_type": "markdown",
      "metadata": {},
      "source": [
        "## Conclusions\n\nFrom the above experiments, we can see some of the advantages and\nlimitations of multi-view spectral clustering. We can see that it outperforms\nsingle-view spectral clustering when data views are both informative and\nrelatively separable. However, when one view is particularly inseparable, it\ncan perform worse than its single-view analog. Additionally, we can see that\nthe clustering algorithm is capable of clustering nonconvex-shaped clusters.\nThese results were obtained using simple, simulated data, so results may vary\non more complex data from the real world.\n\n"
      ]
    }
  ],
  "metadata": {
    "kernelspec": {
      "display_name": "Python 3",
      "language": "python",
      "name": "python3"
    },
    "language_info": {
      "codemirror_mode": {
        "name": "ipython",
        "version": 3
      },
      "file_extension": ".py",
      "mimetype": "text/x-python",
      "name": "python",
      "nbconvert_exporter": "python",
      "pygments_lexer": "ipython3",
      "version": "3.7.10"
    }
  },
  "nbformat": 4,
  "nbformat_minor": 0
}