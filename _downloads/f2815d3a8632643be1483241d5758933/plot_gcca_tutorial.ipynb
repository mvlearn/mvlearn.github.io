{
  "cells": [
    {
      "cell_type": "code",
      "execution_count": null,
      "metadata": {
        "collapsed": false
      },
      "outputs": [],
      "source": [
        "%matplotlib inline"
      ]
    },
    {
      "cell_type": "markdown",
      "metadata": {},
      "source": [
        "\n# Generalized Canonical Correlation Analysis (GCCA) Tutorial\n\nIn this tutorial we demonstrate the use of GCCA to uncover latent correlated\ninformation across views when we have more than 2 views. In this case, we\nuse 3 views from the UCI Multiple Features Dataset.\n"
      ]
    },
    {
      "cell_type": "code",
      "execution_count": null,
      "metadata": {
        "collapsed": false
      },
      "outputs": [],
      "source": [
        "from mvlearn.datasets import load_UCImultifeature\nfrom mvlearn.embed import GCCA\nfrom mvlearn.plotting import crossviews_plot"
      ]
    },
    {
      "cell_type": "markdown",
      "metadata": {},
      "source": [
        "## Load Data\n\nWe load three views from the UCI handwritten digits multi-view data set.\nSpecificallym the Profile correlations, Karhunen-Love coefficients, and pixel\naverages from 2x3 windows.\n\n"
      ]
    },
    {
      "cell_type": "code",
      "execution_count": null,
      "metadata": {
        "collapsed": false
      },
      "outputs": [],
      "source": [
        "# Load the data\nXs, y = load_UCImultifeature(views=[1, 2, 3])\n\n# Inspect the dataset\nprint(f'There are {len(Xs)} views.')\nprint(f'There are {Xs[0].shape[0]} observations')\nprint(f'The feature sizes are: {[X.shape[1] for X in Xs]}')"
      ]
    },
    {
      "cell_type": "markdown",
      "metadata": {},
      "source": [
        "### Embed Views\n\n"
      ]
    },
    {
      "cell_type": "code",
      "execution_count": null,
      "metadata": {
        "collapsed": false
      },
      "outputs": [],
      "source": [
        "# Create GCCA object and embed the\ngcca = GCCA()\nXs_latents = gcca.fit_transform(Xs)\n\nprint(f'The feature sizes are: {[X.shape[1] for X in Xs_latents]}')"
      ]
    },
    {
      "cell_type": "markdown",
      "metadata": {},
      "source": [
        "## Plot the first two views against each other\nThe top three dimensions from the latents spaces of the profile correlation\nand pixel average views are plotted against each other. However, their latent\nspaces are influenced the the Karhunen-Love coefficients, not plotted.\n\n"
      ]
    },
    {
      "cell_type": "code",
      "execution_count": null,
      "metadata": {
        "collapsed": false
      },
      "outputs": [],
      "source": [
        "crossviews_plot(Xs_latents[[0, 2]], dimensions=[0, 1, 2], labels=y,\n                cmap='Set1', title='Profile correlations vs Pixel Averages',\n                scatter_kwargs={'alpha': 0.4, 's': 2.0})"
      ]
    }
  ],
  "metadata": {
    "kernelspec": {
      "display_name": "Python 3",
      "language": "python",
      "name": "python3"
    },
    "language_info": {
      "codemirror_mode": {
        "name": "ipython",
        "version": 3
      },
      "file_extension": ".py",
      "mimetype": "text/x-python",
      "name": "python",
      "nbconvert_exporter": "python",
      "pygments_lexer": "ipython3",
      "version": "3.7.9"
    }
  },
  "nbformat": 4,
  "nbformat_minor": 0
}