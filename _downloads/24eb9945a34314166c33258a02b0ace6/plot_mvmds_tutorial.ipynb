{
  "cells": [
    {
      "cell_type": "code",
      "execution_count": null,
      "metadata": {
        "collapsed": false
      },
      "outputs": [],
      "source": [
        "%matplotlib inline"
      ]
    },
    {
      "cell_type": "markdown",
      "metadata": {},
      "source": [
        "\n# Multidimensional Scaling (MVMDS) Tutorial\n\nMVMDS is a useful multiview dimensionaltiy reduction algorithm that allows\nthe user to perform Multidimensional Scaling on multiple views at the same\ntime.\n"
      ]
    },
    {
      "cell_type": "code",
      "execution_count": null,
      "metadata": {
        "collapsed": false
      },
      "outputs": [],
      "source": [
        "# License: MIT\n\nfrom mvlearn.datasets import load_UCImultifeature\nfrom mvlearn.embed import MVMDS\nimport seaborn as sns\nimport matplotlib.pyplot as plt\nimport numpy as np\nfrom sklearn.decomposition import PCA"
      ]
    },
    {
      "cell_type": "markdown",
      "metadata": {},
      "source": [
        "## Load Data\nData comes from UCI Digits Data. Contains 6 views and classifications of\nnumbers 0-9\n\n"
      ]
    },
    {
      "cell_type": "code",
      "execution_count": null,
      "metadata": {
        "collapsed": false
      },
      "outputs": [],
      "source": [
        "Xs, y = load_UCImultifeature()\n\n# Check data\nprint(f'There are {len(Xs)} views.')\nprint(f'There are {Xs[0].shape[0]} observations')\nprint(f'The feature sizes are: {[X.shape[1] for X in Xs]}')"
      ]
    },
    {
      "cell_type": "markdown",
      "metadata": {},
      "source": [
        "## Plotting MVMDS vs PCA\n\nHere we demonstrate the superior performance of MVMDS on multi-view data\nagainst the performance of PCA. To use all the views' data in PCA, we\nconcatenate the views into a larger data matrix.\n\nExamples of 10-class and 4 class data are shown. MVMDS learns principle\ncomponents that are common across views, and end up spreading the data\nbetter.\n\n"
      ]
    },
    {
      "cell_type": "code",
      "execution_count": null,
      "metadata": {
        "collapsed": false
      },
      "outputs": [],
      "source": [
        "# MVMDS reduction\nmvmds = MVMDS(n_components=2)\nXs_mvmds_reduced = mvmds.fit_transform(Xs)\n\n# Concatenate views then PCA for comparison\nXs_concat = Xs[0]\nfor X in Xs[1:]:\n    Xs_concat = np.hstack((Xs_concat, X))\npca = PCA(n_components=2)\nXs_pca_reduced = pca.fit_transform(Xs_concat)\n\nfig, ax = plt.subplots(1, 2, figsize=(14, 6))\nax[0].scatter(Xs_mvmds_reduced[:, 0], Xs_mvmds_reduced[:, 1], c=y)\nax[0].set_title(\"MVMDS Reduced Data (10-class)\")\nax[0].set_xlabel(\"Component 1\")\nax[0].set_ylabel(\"Component 2\")\nax[1].scatter(Xs_pca_reduced[:, 0], Xs_pca_reduced[:, 1], c=y)\nax[1].set_title(\"PCA Reduced Data (10-class)\")\nax[1].set_xlabel(\"Component 1\")\nax[1].set_ylabel(\"Component 2\")\n\nplt.show()\n\n# 4-class data\nXs_4, y_4 = load_UCImultifeature(select_labeled=[0, 1, 2, 3])\n\n# MVMDS reduction\nmvmds = MVMDS(n_components=2)\nXs_mvmds_reduced = mvmds.fit_transform(Xs_4)\n\n# Concatenate views then PCA for comparison\nXs_concat = Xs_4[0]\nfor X in Xs_4[1:]:\n    Xs_concat = np.hstack((Xs_concat, X))\npca = PCA(n_components=2)\nXs_pca_reduced = pca.fit_transform(Xs_concat)\n\nfig, ax = plt.subplots(1, 2, figsize=(14, 6))\nax[0].scatter(Xs_mvmds_reduced[:, 0], Xs_mvmds_reduced[:, 1], c=y_4)\nax[0].set_title(\"MVMDS Reduced Data (4-class)\")\nax[0].set_xlabel(\"Component 1\")\nax[0].set_ylabel(\"Component 2\")\nax[1].scatter(Xs_pca_reduced[:, 0], Xs_pca_reduced[:, 1], c=y_4)\nax[1].set_title(\"PCA Reduced Data (4-class)\")\nax[1].set_xlabel(\"Component 1\")\nax[1].set_ylabel(\"Component 2\")\n\nplt.show()"
      ]
    },
    {
      "cell_type": "markdown",
      "metadata": {},
      "source": [
        "## Components of MVMDS Views Without Noise\n\nHere we will take into account all of the views and perform MVMDS. This\ndataset does not contain noise and each view performs decently well in\npredicting the number. Therefore we will expect the common components created\nby MVMDS to create a strong representation of the data *(Note MVMDS only uses\nthe fit_transform function to properly return the correct components)*\n\n*Note: Each color represents a unique number class*\n\n"
      ]
    },
    {
      "cell_type": "code",
      "execution_count": null,
      "metadata": {
        "collapsed": false
      },
      "outputs": [],
      "source": [
        "# perform mvmds\nmvmds = MVMDS(n_components=5)\nComponents = mvmds.fit_transform(Xs)\n\n# Plot MVMDS images\nplt.style.use('seaborn')\n\ncolor_map = [sns.color_palette(\"Set2\", 10)[int(i)] for i in y]\n\nfig, axes = plt.subplots(4, 4, figsize=(12, 12), sharey=True, sharex=True)\n\nfor i in range(4):\n    for j in range(4):\n        if i != j:\n            axes[i, j].scatter(\n                x=Components[:, i], y=Components[:, j],\n                alpha=1, label=y, color=color_map)\n        axes[3, j].set_xlabel(f'Component {j+1}')\n    axes[i, 0].set_ylabel(f'Component {i+1}')\n\nax = fig.add_subplot(111, frameon=False)\nplt.tick_params(labelcolor='none', top=False,\n                bottom=False, left=False, right=False)\nax.grid(False)\nax.set_title('First 4 MVMDS Components Computed With 6 Views (No Noise)')\n\n\n# PCA Plots\npca = PCA(n_components=6)\npca_Components = pca.fit_transform(Xs[0])\n\nfig, axes = plt.subplots(4, 4, figsize=(12, 12), sharey=True, sharex=True)\n\nfor i in range(4):\n    for j in range(4):\n        if i != j:\n            axes[i, j].scatter(\n                x=pca_Components[:, i], y=pca_Components[:, j],\n                alpha=1, label=y, color=color_map)\n        axes[3, j].set_xlabel(f'Component {j+1}')\n    axes[i, 0].set_ylabel(f'Component {i+1}')\n\nax = fig.add_subplot(111, frameon=False)\nplt.tick_params(labelcolor='none', top=False,\n                bottom=False, left=False, right=False)\nax.grid(False)\nax.set_title('First 4 PCA Components Computed With 1 View')"
      ]
    }
  ],
  "metadata": {
    "kernelspec": {
      "display_name": "Python 3",
      "language": "python",
      "name": "python3"
    },
    "language_info": {
      "codemirror_mode": {
        "name": "ipython",
        "version": 3
      },
      "file_extension": ".py",
      "mimetype": "text/x-python",
      "name": "python",
      "nbconvert_exporter": "python",
      "pygments_lexer": "ipython3",
      "version": "3.7.9"
    }
  },
  "nbformat": 4,
  "nbformat_minor": 0
}