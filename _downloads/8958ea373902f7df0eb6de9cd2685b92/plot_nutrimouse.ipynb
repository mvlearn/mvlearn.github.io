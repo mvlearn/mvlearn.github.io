{
  "cells": [
    {
      "cell_type": "code",
      "execution_count": null,
      "metadata": {
        "collapsed": false
      },
      "outputs": [],
      "source": [
        "%matplotlib inline"
      ]
    },
    {
      "cell_type": "markdown",
      "metadata": {},
      "source": [
        "\n# An mvlearn case study: the Nutrimouse dataset\n\nIn this tutorial, we show how one may utilize various tools of mvlearn. We\ndemonstrate applications to the :class:`mvlearn.datasets.load_nutrimouse`\ndataset from a nutrition study on\nmice. The data measures 40 mice and has two views: expression levels of\npotentially relevant genes and concentrations of certain fatty acids. Each\nmouse has two labels: it's genetic type and diet.\n\n.. [1] P. Martin, H. Guillou, F. Lasserre, S. D\u00e9jean, A. Lan, J-M.\n    Pascussi, M. San Cristobal, P. Legrand, P. Besse, T. Pineau.\n    \"Novel aspects of PPARalpha-mediated regulation of lipid and\n    xenobiotic metabolism revealed through a nutrigenomic study.\"\n    Hepatology, 2007.\n"
      ]
    },
    {
      "cell_type": "code",
      "execution_count": null,
      "metadata": {
        "collapsed": false
      },
      "outputs": [],
      "source": [
        "# Authors: Ronan Perry\n#\n# License: MIT"
      ]
    },
    {
      "cell_type": "markdown",
      "metadata": {},
      "source": [
        "## Load the Nutrimouse dataset\n\n"
      ]
    },
    {
      "cell_type": "code",
      "execution_count": null,
      "metadata": {
        "collapsed": false
      },
      "outputs": [],
      "source": [
        "import numpy as np\nimport matplotlib.pyplot as plt\nimport seaborn as sns\nfrom mvlearn.datasets import load_nutrimouse\n\ndataset = load_nutrimouse()\nXs = [dataset['gene'], dataset['lipid']]\ny = np.vstack((dataset['genotype'], dataset['diet'])).T\n\nprint(f\"Shapes of each view: {[X.shape for X in Xs]}\")"
      ]
    },
    {
      "cell_type": "markdown",
      "metadata": {},
      "source": [
        "## Embed using MVMDS\n\nMultiview multidimensional scaling (:class:`mvlearn.embed.MVMDS`) embeds\nmultiview data into a single representation that captures information shared\nbetween both views. Embedding the two nutrimouse views, we can observe clear\nseparation between the different genotypes and some of the diets too.\n\n"
      ]
    },
    {
      "cell_type": "code",
      "execution_count": null,
      "metadata": {
        "collapsed": false
      },
      "outputs": [],
      "source": [
        "from mvlearn.embed import MVMDS  # noqa: E402\n\nX_mvmds = MVMDS(n_components=2, num_iter=50).fit_transform(Xs)\n\ndiet_names = dataset['diet_names']\ngenotype_names = dataset['genotype_names']\nplt.figure(figsize=(6, 4))\nfor genotype_idx, color in enumerate(('Blue', 'Red')):\n    for diet_idx, marker in enumerate(('o', '*', 's', '+', 'x')):\n        X_idx = np.where((y == (genotype_idx, diet_idx)).all(axis=1))\n        label = diet_names[diet_idx] + f' ({genotype_names[genotype_idx]})'\n        plt.scatter(*zip(*X_mvmds[X_idx]), c=color, label=label, marker=marker)\n\nplt.xlabel('MVMDS component 1')\nplt.ylabel('MVMDS component 2')\nplt.title('MVMDS Embedding')\nplt.xticks([])\nplt.yticks([])\nplt.legend(bbox_to_anchor=(1.04, 1), borderaxespad=0)\nplt.tight_layout()\nplt.show()"
      ]
    },
    {
      "cell_type": "markdown",
      "metadata": {},
      "source": [
        "## Cluster using Multiview KMeans\n\nWe can compare the estimated clusters from\n:class:`mvlearn.cluster.MultiviewKMeans` to regular\nKMeans on each of the views. Multiview Kmeans clearly finds two clusters\nmatching the two different genotype labels observed in the prior plots.\n\n"
      ]
    },
    {
      "cell_type": "code",
      "execution_count": null,
      "metadata": {
        "collapsed": false
      },
      "outputs": [],
      "source": [
        "from mvlearn.cluster import MultiviewKMeans  # noqa: E402\nfrom sklearn.cluster import KMeans  # noqa: E402\n\nXs_labels = MultiviewKMeans(n_clusters=2, random_state=0).fit_predict(Xs)\nX1_labels = KMeans(n_clusters=2, random_state=0).fit_predict(Xs[0])\nX2_labels = KMeans(n_clusters=2, random_state=0).fit_predict(Xs[1])\n\nsca_kwargs = {'alpha': 0.7, 's': 20}\ncolors = np.asarray(['Red', 'Blue'])\nf, axes = plt.subplots(1, 3, figsize=(8, 4))\naxes[0].scatter(*zip(*X_mvmds), c=colors[Xs_labels], **sca_kwargs)\naxes[0].set_title('Multiview Kmeans Clusters')\naxes[1].scatter(*zip(*X_mvmds), c=colors[X1_labels], **sca_kwargs)\naxes[1].set_title('View 1 Kmeans Clusters')\naxes[2].scatter(*zip(*X_mvmds), c=colors[X2_labels], **sca_kwargs)\naxes[2].set_title('View 2 Kmeans Clusters')\n\nfor ax in axes:\n    ax.set_xlabel('MVMDS component 1')\n    ax.set_xticks([])\n    ax.set_yticks([])\n    ax.set_aspect('equal')\naxes[0].set_ylabel('MVMDS component 2')\naxes[0].set_title('Multiview Kmeans Clusters')\nplt.tight_layout()\nplt.show()"
      ]
    },
    {
      "cell_type": "markdown",
      "metadata": {},
      "source": [
        "## Decomposition using AJIVE\n\nWe can also apply joint decomposition tools to find features across views\nthat are jointly related. Using :class:`mvlearn.decomposition.AJIVE`, we can\nfind genes and lipids that are jointly related.\n\n"
      ]
    },
    {
      "cell_type": "code",
      "execution_count": null,
      "metadata": {
        "collapsed": false
      },
      "outputs": [],
      "source": [
        "from mvlearn.decomposition import AJIVE  # noqa: E402\n\najive = AJIVE()\nXs_joint = ajive.fit_transform(Xs)\n\nf, axes = plt.subplots(2, 1, figsize=(5, 5))\nsort_idx = np.hstack((np.argsort(y[:20, 1]), np.argsort(y[20:, 1]) + 20))\ny_ticks = [diet_names[j] + f' ({genotype_names[i]})' if idx %\n           4 == 0 else '' for idx, (i, j) in enumerate(y[sort_idx])]\n\ngene_ticks = [n if i in [31, 36, 76, 94] else '' for i,\n              n in enumerate(dataset['gene_feature_names'])]\ng = sns.heatmap(Xs_joint[0][sort_idx],\n                yticklabels=y_ticks, cmap=\"RdBu_r\", ax=axes[0],\n                xticklabels=gene_ticks)\naxes[0].set_title('Joint data: Gene expressions')\n\nsns.heatmap(Xs_joint[1][sort_idx],\n            yticklabels=y_ticks, cmap=\"RdBu_r\", ax=axes[1],\n            xticklabels=dataset['lipid_feature_names'])\naxes[1].set_title('Joint data: Lipid concentrations')\nplt.tight_layout()\nplt.show()"
      ]
    },
    {
      "cell_type": "markdown",
      "metadata": {},
      "source": [
        "## Inference using regularized CCA\n\nCanonical Correlation Analysis (:class:`mvlearn.embed.CCA`)\nfinds separate linear projections of views which are maximally\ncorrelated. We can so embed the data jointly and observe that the first two\nembeddings are highly correlated and capture the differences between\ngenetic types. One can use this to construct a single view\nfor subsequent inference, or to examine the loading weights across views.\nBecause the genetic expression data has more features than samples, we need\nto use regularization so as to not to trivially overfit.\n\n"
      ]
    },
    {
      "cell_type": "code",
      "execution_count": null,
      "metadata": {
        "collapsed": false
      },
      "outputs": [],
      "source": [
        "from mvlearn.plotting import crossviews_plot  # noqa: E402\nfrom mvlearn.embed import CCA  # noqa: E402\n\ncca = CCA(n_components=2, regs=[0.9, 0.1])\nXs_cca = cca.fit_transform(Xs)\n\ny_labels = [diet_names[j] + f' ({genotype_names[i]})' for (i, j) in y]\nf, axes = crossviews_plot(\n    Xs_cca, labels=np.asarray(['Red', 'Blue'])[y[:, 0]],\n    ax_ticks=False, figsize=(5, 5), equal_axes=True,\n    title='CCA view embeddings', scatter_kwargs=sca_kwargs,\n    show=False)\ncorr1, corr2 = cca.canon_corrs(Xs_cca)\naxes[0, 0].annotate(\n    f'1st Canonical\\nCorrelation = {corr1:.2f}', xy=(0.95, 0.05),\n    xycoords='axes fraction', fontsize=10, ha='right')\naxes[1, 1].annotate(\n    f'2nd Canonical\\nCorrelation = {corr2:.2f}', xy=(0.95, 0.05),\n    xycoords='axes fraction', fontsize=10, ha='right')\nplt.show()\n\nf, axes = plt.subplots(2, 1, figsize=(6, 4))\ngene_ticks = [n if i in [31, 57, 76, 88] else '' for i,\n              n in enumerate(dataset['gene_feature_names'])]\ng = sns.heatmap(cca.loadings_[0].T,\n                yticklabels=['Component 1', 'Component 2'],\n                cmap=\"RdBu_r\", ax=axes[0],\n                xticklabels=gene_ticks)\ng.set_xticklabels(gene_ticks, rotation=90)\ng.set_yticklabels(g.get_yticklabels(), va=\"center\")\naxes[0].set_title('Gene expression loadings')\n\ng = sns.heatmap(cca.loadings_[1].T,\n                yticklabels=['Component 1', 'Component 2'],\n                cmap=\"RdBu_r\", ax=axes[1],\n                xticklabels=dataset['lipid_feature_names'])\ng.set_yticklabels(g.get_yticklabels(), va=\"center\")\naxes[1].set_title('Lipid concentration loadings')\nplt.tight_layout()\nplt.show()"
      ]
    }
  ],
  "metadata": {
    "kernelspec": {
      "display_name": "Python 3",
      "language": "python",
      "name": "python3"
    },
    "language_info": {
      "codemirror_mode": {
        "name": "ipython",
        "version": 3
      },
      "file_extension": ".py",
      "mimetype": "text/x-python",
      "name": "python",
      "nbconvert_exporter": "python",
      "pygments_lexer": "ipython3",
      "version": "3.7.11"
    }
  },
  "nbformat": 4,
  "nbformat_minor": 0
}