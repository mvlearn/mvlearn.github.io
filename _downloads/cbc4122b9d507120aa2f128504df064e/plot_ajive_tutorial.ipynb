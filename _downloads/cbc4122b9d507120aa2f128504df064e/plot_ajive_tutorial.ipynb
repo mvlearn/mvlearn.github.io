{
  "cells": [
    {
      "cell_type": "code",
      "execution_count": null,
      "metadata": {
        "collapsed": false
      },
      "outputs": [],
      "source": [
        "%matplotlib inline"
      ]
    },
    {
      "cell_type": "markdown",
      "metadata": {},
      "source": [
        "\n# Angle-based Joint and Individual Variation Explained  (AJIVE)\n\nAdopted from the code at https://github.com/idc9/py_jive and tutorial\nwritten by:\n\nAuthor: Iain Carmichael\n\nLicense: MIT License\n\n<blockquote>\n    [1] Lock, Eric F., et al. \u201cJoint and Individual Variation Explained (JIVE)\n    for Integrated Analysis of Multiple Data Types.\u201d The Annals of Applied\n    Statistics, vol. 7, no. 1, 2013, pp. 523\u2013542., doi:10.1214/12-aoas597.\n</blockquote>\n\n\nAJIVE is a useful algorithm that decomposes multiple views of data into two\nmain pieces\n- Joint Variation\n- Individual Variation\n\nwhose sum is the original data minus noise. This notebook will demonstrate the\nfunctionality of AJIVE and show some examples of the algorithm's usefulness.\n"
      ]
    },
    {
      "cell_type": "code",
      "execution_count": null,
      "metadata": {
        "collapsed": false
      },
      "outputs": [],
      "source": [
        "import numpy as np\nfrom mvlearn.decomposition import AJIVE\nimport seaborn as sns\nimport matplotlib.pyplot as plt"
      ]
    },
    {
      "cell_type": "markdown",
      "metadata": {},
      "source": [
        "## Data Creation\n\nHere we create data in the same way detailed in the initial JIVE paper:\n\nThe two views are created with shared joint variation, unique individual\nvariation, and independent noise.\n\n\n"
      ]
    },
    {
      "cell_type": "code",
      "execution_count": null,
      "metadata": {
        "collapsed": false
      },
      "outputs": [],
      "source": [
        "np.random.seed(12)\n\n# First View\nX1_joint = np.vstack([-1 * np.ones((10, 20)), np.ones((10, 20))])\nX1_joint = np.hstack([np.zeros((20, 80)), X1_joint])\nX1_indiv_t = np.vstack([\n        np.ones((4, 50)),\n        -1 * np.ones((4, 50)),\n        np.zeros((4, 50)),\n        np.ones((4, 50)),\n        -1 * np.ones((4, 50)),\n])\nX1_indiv_b = np.vstack(\n    [np.ones((5, 50)), -1 * np.ones((10, 50)), np.ones((5, 50))]\n)\nX1_indiv_tot = np.hstack([X1_indiv_t, X1_indiv_b])\nX1_noise = np.random.normal(loc=0, scale=1, size=(20, 100))\n\n# Second View\nX2_joint = np.vstack([np.ones((10, 10)), -1 * np.ones((10, 10))])\nX2_joint = 5000 * np.hstack([X2_joint, np.zeros((20, 10))])\nX2_indiv = 5000 * np.vstack([\n        -1 * np.ones((5, 20)),\n        np.ones((5, 20)),\n        -1 * np.ones((5, 20)),\n        np.ones((5, 20)),\n])\nX2_noise = 5000 * np.random.normal(loc=0, scale=1, size=(20, 20))\n\n# View Construction\nX1 = X1_indiv_tot + X1_joint + X1_noise\nX2 = X2_indiv + X2_joint + X2_noise\n\nXs_same = [X1, X1]\nXs_diff = [X1, X2]"
      ]
    },
    {
      "cell_type": "markdown",
      "metadata": {},
      "source": [
        "## Scree Plots\n\nScree plots allow us to observe variation and determine an appropriate\ninitial signal rank for each view.\n\n"
      ]
    },
    {
      "cell_type": "code",
      "execution_count": null,
      "metadata": {
        "collapsed": false
      },
      "outputs": [],
      "source": [
        "fig, axes = plt.subplots(1, 2, figsize=(10, 5), sharey=True)\nU, S, V = np.linalg.svd(X1)\nvars1 = S**2 / np.sum(S**2)\nU, S, V = np.linalg.svd(X2)\nvars2 = S**2 / np.sum(S**2)\naxes[0].plot(np.arange(10) + 1, vars1[:10], 'ro-', linewidth=2)\naxes[1].plot(np.arange(10) + 1, vars2[:10], 'ro-', linewidth=2)\naxes[0].set_title('Scree Plot View 1')\naxes[1].set_title('Scree Plot View 2')\naxes[0].set_xlabel('Number of top singular values')\naxes[1].set_xlabel('Number of top singular values')\naxes[0].set_ylabel('Percent variance explained')\nplt.show()\n\n# Based on the scree plots, we fit AJIVE with both initial signal ranks set to\n# 2.\n\n\najive1 = AJIVE(init_signal_ranks=[2, 2])\nJs_1 = ajive1.fit_transform(Xs_same)\n\najive2 = AJIVE(init_signal_ranks=[2, 2])\nJs_2 = ajive2.fit_transform(Xs_diff)"
      ]
    },
    {
      "cell_type": "markdown",
      "metadata": {},
      "source": [
        "## Heatmap Visualizations\n\nHere we are using heatmaps to visualize the decomposition of our views. As we\ncan see when we use two of the same views there is no Individualized\nVariation displayed. When we create two different views, the algorithm finds\ndifferent decompositions where common and individual structural artifacts\ncan be seen in their corresponding heatmaps.\n\n"
      ]
    },
    {
      "cell_type": "code",
      "execution_count": null,
      "metadata": {
        "collapsed": false
      },
      "outputs": [],
      "source": [
        "def plot_blocks(blocks, names):\n    n_views = len(blocks[0])\n    n_blocks = len(blocks)\n    for i in range(n_views):\n        for j in range(n_blocks):\n            plt.subplot(n_blocks, n_views, j*n_views+i+1)\n            sns.heatmap(blocks[j][i], xticklabels=False, yticklabels=False,\n                        cmap=\"RdBu\")\n            plt.title(f\"View {i}: {names[j]}\")"
      ]
    },
    {
      "cell_type": "markdown",
      "metadata": {},
      "source": [
        "### Same Views\n\n"
      ]
    },
    {
      "cell_type": "code",
      "execution_count": null,
      "metadata": {
        "collapsed": false
      },
      "outputs": [],
      "source": [
        "plt.figure(figsize=[20, 10])\nresiduals = [v1 - X for v1, X in zip(Xs_same, ajive1.inverse_transform(Js_1))]\nindividual_mats = ajive1.individual_mats_\nplot_blocks([Xs_same, Js_1, individual_mats, residuals],\n            [\"Raw Data\", \"Joint\", \"Individual\", \"Noise\"])"
      ]
    },
    {
      "cell_type": "markdown",
      "metadata": {},
      "source": [
        "### Different Views\n\n"
      ]
    },
    {
      "cell_type": "code",
      "execution_count": null,
      "metadata": {
        "collapsed": false
      },
      "outputs": [],
      "source": [
        "plt.figure(figsize=[20, 10])\nplt.title('Different Views')\nindividual_mats = ajive2.individual_mats_\nXs_inv = ajive2.inverse_transform(Js_2)\nresiduals = [v - X for v, X in zip(Xs_diff, Xs_inv)]\nplot_blocks([Xs_diff, Js_2, individual_mats, residuals],\n            [\"Raw Data\", \"Joint\", \"Individual\", \"Noise\"])"
      ]
    }
  ],
  "metadata": {
    "kernelspec": {
      "display_name": "Python 3",
      "language": "python",
      "name": "python3"
    },
    "language_info": {
      "codemirror_mode": {
        "name": "ipython",
        "version": 3
      },
      "file_extension": ".py",
      "mimetype": "text/x-python",
      "name": "python",
      "nbconvert_exporter": "python",
      "pygments_lexer": "ipython3",
      "version": "3.7.9"
    }
  },
  "nbformat": 4,
  "nbformat_minor": 0
}