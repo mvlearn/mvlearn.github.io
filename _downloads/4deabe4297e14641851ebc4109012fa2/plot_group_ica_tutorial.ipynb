{
  "cells": [
    {
      "cell_type": "code",
      "execution_count": null,
      "metadata": {
        "collapsed": false
      },
      "outputs": [],
      "source": [
        "%matplotlib inline"
      ]
    },
    {
      "cell_type": "markdown",
      "metadata": {},
      "source": [
        "\n# ICA: a tutorial\n\nAuthor: Pierre Ablin\n\nGroup ICA extends the celebrated Independent Component Analysis to multiple datasets.\n\nSingle view ICA decomposes a dataset $X$ as $X = S      imes A^{        op}$, where $S$ are the independent sources (meaning that the columns of $S$ are independent), and $A$ is the mixing matrix.\n\nIn group ICA, we have several views $Xs = [X_1, \\dots, X_n]$. Each view is obtained as\n\n$$\nXi \\simeq S     imes Ai.T\n$$\n\nso the views share the same sources $S$, but have different mixing matrices $A_i$.\nIt is a powerful tool for group inference, as it allows to extract signals that are comon across views.\n"
      ]
    },
    {
      "cell_type": "code",
      "execution_count": null,
      "metadata": {
        "collapsed": false
      },
      "outputs": [],
      "source": [
        "import numpy as np\nimport matplotlib.pyplot as plt\nfrom mvlearn.decomposition import GroupICA\n\n\n\ndef plot_sources(S):\n    n_samples, n_sources = S.shape\n    fig, axes = plt.subplots(n_sources, 1, figsize=(6, 4), sharex=True)\n    for ax, sig in zip(axes, S.T):\n        ax.plot(sig)\n\n# First, let's define some sources:\n\n\nnp.random.seed(0)\nn_samples = 2000\ntime = np.linspace(0, 8, n_samples)\n\ns1 = np.sin(2 * time) * np.sin(40 * time)\ns2 = np.sin(3 * time) ** 5\ns3 = np.random.laplace(size=s1.shape)\n\nS = np.c_[s1, s2, s3]\n\nplot_sources(S)\n\n# Next, generate some views, which are noisy observations of linear transforms\n# of these sources:\n\n\nn_views = 10\nmixings = [np.random.randn(3, 3) for _ in range(n_views)]\nXs = [np.dot(S, A.T) + 0.3 * np.random.randn(n_samples, 3) for A in mixings]\n\n# We can visualize one dataset: it looks quite messy.\n\n\nplot_sources(Xs[0])\n\n# Next, we can apply group ICA. The option `multiview_output=False` means that\n# we want to recover the estimated sources when we do `.transform`.\n\n\ngroupica = GroupICA(multiview_output=False).fit(Xs)\n\n# Let's look at what the algorithm estimates:\n\n\nestimated_sources = groupica.transform(Xs)\nplot_sources(estimated_sources)\n\n# Looks pretty good ! We can also wheck that it has correctly predicted each\n# mixing matrix. The estimated mixing matrices are stored in the\n# `.individual_mixing_` attribute.\n\n\nestimated_mixings = groupica.individual_mixing_\n\n# If $\\tilde{A}$ is the estimated mixing matrix and $A$ is the true mixing\n# matrix, we can look at $\\tilde{A}^{-1}A$. It should be close to a scale and\n# permuation matrix: in this case, the sources are correctly estimated, up to\n# scale and permutation.\n\n\nplt.matshow(np.dot(np.linalg.pinv(estimated_mixings[0]), mixings[0]))\n\n# A great advantage of groupICA is that it leverages the multiple views to\n# reduce noise. For instance, if only had two views, we would have obtained:\n\n\nestimated_sources = groupica.fit_transform(Xs[:2])\nplot_sources(estimated_sources)\n\n# Another important property of group ICA is that it can recover signals that\n# are common to all datasets, and separate these signals from the rest. Imagine\n# that we only have one common source across datasets:\n\n\ncommon_source = S[:, 0]\nmixings = np.random.randn(n_views, 3)\nXs = [a * common_source[:, None] + 0.3 * np.random.randn(n_samples, 3) for a in mixings]\n\n\n\nestimated_sources = groupica.fit_transform(Xs)\nplot_sources(estimated_sources)\n\n# It recovers the common source on one channel, and the other estimated\n# sources are noise."
      ]
    }
  ],
  "metadata": {
    "kernelspec": {
      "display_name": "Python 3",
      "language": "python",
      "name": "python3"
    },
    "language_info": {
      "codemirror_mode": {
        "name": "ipython",
        "version": 3
      },
      "file_extension": ".py",
      "mimetype": "text/x-python",
      "name": "python",
      "nbconvert_exporter": "python",
      "pygments_lexer": "ipython3",
      "version": "3.7.9"
    }
  },
  "nbformat": 4,
  "nbformat_minor": 0
}