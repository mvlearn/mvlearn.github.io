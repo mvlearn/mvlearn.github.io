{
  "cells": [
    {
      "cell_type": "code",
      "execution_count": null,
      "metadata": {
        "collapsed": false
      },
      "outputs": [],
      "source": [
        "%matplotlib inline"
      ]
    },
    {
      "cell_type": "markdown",
      "metadata": {},
      "source": [
        "\n# Multiview KMeans Tutorial\n\nIn this tutorial we demonstrate how to use multiview k-means clustering\nin *mvlearn* by clustering a 5-class dataset from the UCI multiview\ndigits dataset.\n"
      ]
    },
    {
      "cell_type": "code",
      "execution_count": null,
      "metadata": {
        "collapsed": false
      },
      "outputs": [],
      "source": [
        "# License: MIT\n\nfrom mvlearn.datasets import load_UCImultifeature\nfrom mvlearn.cluster import MultiviewKMeans\nfrom sklearn.cluster import KMeans\nimport numpy as np\nfrom sklearn.manifold import TSNE\nfrom sklearn.metrics import normalized_mutual_info_score as nmi_score\nimport matplotlib.pyplot as plt\nimport warnings\nwarnings.filterwarnings(\"ignore\")\n\n# Load in UCI digits multiple feature data\n\nRANDOM_SEED = 5\n\n# Load dataset along with labels for digits 0 through 4\nn_class = 5\nXs, labels = load_UCImultifeature(\n    select_labeled=list(range(n_class)), views=[0, 1])\n\n\n# Helper function to display data and the results of clustering\ndef display_plots(pre_title, data, labels):\n    # plot the views\n    fig, ax = plt.subplots(1, 2, figsize=(14, 5))\n    dot_size = 10\n    ax[0].scatter(data[0][:, 0], data[0][:, 1], c=labels, s=dot_size)\n    ax[0].set_title(pre_title + ' View 1')\n    ax[0].axes.get_xaxis().set_visible(False)\n    ax[0].axes.get_yaxis().set_visible(False)\n\n    ax[1].scatter(data[1][:, 0], data[1][:, 1], c=labels, s=dot_size)\n    ax[1].set_title(pre_title + ' View 2')\n    ax[1].axes.get_xaxis().set_visible(False)\n    ax[1].axes.get_yaxis().set_visible(False)\n\n    plt.show()"
      ]
    },
    {
      "cell_type": "markdown",
      "metadata": {},
      "source": [
        "## Singleview and multiview clustering of the data with 2 views\n\nHere we will compare the performance of the Multiview and Singleview\nversions of kmeans clustering. We will evaluate the purity of the resulting\nclusters from each algorithm with respect to the class labels using the\nnormalized mutual information metric. <br>\n\nAs we can see, Multiview clustering produces clusters with higher purity\ncompared to those produced by clustering on just a single view or by\nclustering the two views concatenated together.\n\n"
      ]
    },
    {
      "cell_type": "code",
      "execution_count": null,
      "metadata": {
        "collapsed": false
      },
      "outputs": [],
      "source": [
        "# Singleview kmeans clustering\n\n# Cluster each view separately\ns_kmeans = KMeans(n_clusters=n_class, random_state=RANDOM_SEED)\ns_clusters_v1 = s_kmeans.fit_predict(Xs[0])\ns_clusters_v2 = s_kmeans.fit_predict(Xs[1])\n\n# Concatenate the multiple views into a single view\ns_data = np.hstack(Xs)\ns_clusters = s_kmeans.fit_predict(s_data)\n\n# Compute nmi between true class labels and singleview cluster labels\ns_nmi_v1 = nmi_score(labels, s_clusters_v1)\ns_nmi_v2 = nmi_score(labels, s_clusters_v2)\ns_nmi = nmi_score(labels, s_clusters)\nprint('Singleview View 1 NMI Score: {0:.3f}\\n'.format(s_nmi_v1))\nprint('Singleview View 2 NMI Score: {0:.3f}\\n'.format(s_nmi_v2))\nprint('Singleview Concatenated NMI Score: {0:.3f}\\n'.format(s_nmi))\n\n# Multiview kmeans clustering\n\n# Use the MultiviewKMeans instance to cluster the data\nm_kmeans = MultiviewKMeans(n_clusters=n_class, random_state=RANDOM_SEED)\nm_clusters = m_kmeans.fit_predict(Xs)\n\n# Compute nmi between true class labels and multiview cluster labels\nm_nmi = nmi_score(labels, m_clusters)\nprint('Multiview NMI Score: {0:.3f}\\n'.format(m_nmi))"
      ]
    },
    {
      "cell_type": "markdown",
      "metadata": {},
      "source": [
        "## Comparing predicted cluster labels vs the truth\nWe will display the clustering results of the Multiview kmeans clustering\nalgorithm below, along with the true class labels.\n\n"
      ]
    },
    {
      "cell_type": "code",
      "execution_count": null,
      "metadata": {
        "collapsed": false
      },
      "outputs": [],
      "source": [
        "# Running TSNE to display clustering results via low dimensional embedding\ntsne = TSNE()\nnew_data_1 = tsne.fit_transform(Xs[0])\nnew_data_2 = tsne.fit_transform(Xs[1])\n\ndisplay_plots('Multiview KMeans Clusters', Xs, m_clusters)\ndisplay_plots('True Labels', Xs, labels)"
      ]
    }
  ],
  "metadata": {
    "kernelspec": {
      "display_name": "Python 3",
      "language": "python",
      "name": "python3"
    },
    "language_info": {
      "codemirror_mode": {
        "name": "ipython",
        "version": 3
      },
      "file_extension": ".py",
      "mimetype": "text/x-python",
      "name": "python",
      "nbconvert_exporter": "python",
      "pygments_lexer": "ipython3",
      "version": "3.7.9"
    }
  },
  "nbformat": 4,
  "nbformat_minor": 0
}