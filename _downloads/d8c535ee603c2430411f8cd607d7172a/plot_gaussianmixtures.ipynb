{
  "cells": [
    {
      "cell_type": "code",
      "execution_count": null,
      "metadata": {
        "collapsed": false
      },
      "outputs": [],
      "source": [
        "%matplotlib inline"
      ]
    },
    {
      "cell_type": "markdown",
      "metadata": {},
      "source": [
        "\n# Generating Multiview Data from Gaussian Mixtures\n\nIn this example we show how to simulate multiview data from Gaussian\nmixtures and plot the views against each other using a crossviews plot.\n"
      ]
    },
    {
      "cell_type": "code",
      "execution_count": null,
      "metadata": {
        "collapsed": false
      },
      "outputs": [],
      "source": [
        "# License: MIT\n\nimport numpy as np\nfrom mvlearn.datasets import GaussianMixture\nfrom mvlearn.plotting import crossviews_plot\n\n# Latent variables are sampled from two multivariate Gaussians with equal\n# prior probability. Then a polynomial transformation is applied and noise\n# is added independently to both the transformed and untransformed latents.\n\nn_samples = 100\ncenters = [[0, 1], [0, -1]]\ncovariances = [np.eye(2), np.eye(2)]\ngm = GaussianMixture(n_samples, centers, covariances, random_state=42,\n                     shuffle=True, shuffle_random_state=42)\ngm = gm.sample_views(transform='poly', n_noise=2)\n\nlatent, y = gm.get_Xy(latents=True)\nXs, _ = gm.get_Xy(latents=False)\n\n# The latent data is plotted against itself to reveal the underlying\n# distribtution.\n\n\ncrossviews_plot([latent, latent], labels=y, title='Latent Variable',\n                equal_axes=True)\n\n# The noisy latent variable (view 1) is plotted against the transformed latent\n# variable (view 2), an example of a dataset with two views.\n\n\ncrossviews_plot(Xs, labels=y,\n                title='View 1 vs. View 2 (Polynomial Transform + noise)',\n                equal_axes=True)"
      ]
    }
  ],
  "metadata": {
    "kernelspec": {
      "display_name": "Python 3",
      "language": "python",
      "name": "python3"
    },
    "language_info": {
      "codemirror_mode": {
        "name": "ipython",
        "version": 3
      },
      "file_extension": ".py",
      "mimetype": "text/x-python",
      "name": "python",
      "nbconvert_exporter": "python",
      "pygments_lexer": "ipython3",
      "version": "3.7.9"
    }
  },
  "nbformat": 4,
  "nbformat_minor": 0
}