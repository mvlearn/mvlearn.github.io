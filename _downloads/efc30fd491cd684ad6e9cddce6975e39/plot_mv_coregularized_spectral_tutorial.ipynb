{
  "cells": [
    {
      "cell_type": "code",
      "execution_count": null,
      "metadata": {
        "collapsed": false
      },
      "outputs": [],
      "source": [
        "%matplotlib inline"
      ]
    },
    {
      "cell_type": "markdown",
      "metadata": {},
      "source": [
        "\n# Multiview Coregularized Spectral Clustering Comparison\n\nHere we will compare the performance of the Co-Regularized multiview and\nsingleview spectral clustering. We will evaluate the purity of\nthe resulting clusters from each algorithm with respect to the class labels\nusing the normalized mutual information metric.\n\nAs we can see, Co-Regularized multiview clustering produces clusters with\nhigher purity compared to those produced by singleview clustering for all 3\ninput types.\n"
      ]
    },
    {
      "cell_type": "code",
      "execution_count": null,
      "metadata": {
        "collapsed": false
      },
      "outputs": [],
      "source": [
        "# License: MIT\n\nimport warnings\nimport numpy as np\nfrom sklearn.cluster import SpectralClustering\nfrom sklearn.metrics import normalized_mutual_info_score as nmi_score\nfrom mvlearn.datasets import load_UCImultifeature\nfrom mvlearn.cluster import MultiviewCoRegSpectralClustering\nfrom mvlearn.plotting import quick_visualize\n\nwarnings.simplefilter('ignore')  # Ignore warnings\nRANDOM_SEED = 10\n\n\n# Load the UCI Digits Multiple Features Data Set as an Example Data Set\n# Load dataset along with labels for digits 0 through 4\nn_class = 5\nXs, labels = load_UCImultifeature(\n    select_labeled=list(range(n_class)), views=[0, 1])"
      ]
    },
    {
      "cell_type": "markdown",
      "metadata": {},
      "source": [
        "## Singleview spectral clustering\n\nCluster each view separately and compute nmi\n\n"
      ]
    },
    {
      "cell_type": "code",
      "execution_count": null,
      "metadata": {
        "collapsed": false
      },
      "outputs": [],
      "source": [
        "s_spectral = SpectralClustering(\n    n_clusters=n_class, random_state=RANDOM_SEED, n_init=100)\n\nfor i in range(len(Xs)):\n    s_clusters = s_spectral.fit_predict(Xs[i])\n    s_nmi = nmi_score(labels, s_clusters, average_method='arithmetic')\n    print('Single-view View {0:d} NMI Score: {1:.3f}\\n'.format(i + 1, s_nmi))\n\n# Concatenate the multiple views into a single view and produce clusters\ns_data = np.hstack(Xs)\ns_clusters = s_spectral.fit_predict(s_data)\n\ns_nmi = nmi_score(labels, s_clusters)\nprint('Single-view Concatenated NMI Score: {0:.3f}\\n'.format(s_nmi))"
      ]
    },
    {
      "cell_type": "markdown",
      "metadata": {},
      "source": [
        "## Co-Regularized multiview spectral clustering\n\nUse the MultiviewSpectralClustering instance to cluster the data\n\n"
      ]
    },
    {
      "cell_type": "code",
      "execution_count": null,
      "metadata": {
        "collapsed": false
      },
      "outputs": [],
      "source": [
        "m_spectral1 = MultiviewCoRegSpectralClustering(n_clusters=n_class,\n                                               random_state=RANDOM_SEED,\n                                               n_init=100)\nm_clusters1 = m_spectral1.fit_predict(Xs)\n\n# Compute nmi between true class labels and multi-view cluster labels\nm_nmi1 = nmi_score(labels, m_clusters1)\nprint('Multi-view NMI Score: {0:.3f}\\n'.format(m_nmi1))"
      ]
    },
    {
      "cell_type": "markdown",
      "metadata": {},
      "source": [
        "## Visualize Results\n\nPlots of clusters produced by multiview spectral clustering and the true\nclusters.\n\nWe will display the clustering results of the Co-Regularized multiview\nspectral clustering algorithm below, along with the true class labels.\n\n"
      ]
    },
    {
      "cell_type": "code",
      "execution_count": null,
      "metadata": {
        "collapsed": false
      },
      "outputs": [],
      "source": [
        "quick_visualize(Xs, labels=labels, title='Ground Truth',\n                scatter_kwargs={'s': 8})\nquick_visualize(Xs, labels=m_clusters1, title='Multi-view Clustering',\n                scatter_kwargs={'s': 8})"
      ]
    }
  ],
  "metadata": {
    "kernelspec": {
      "display_name": "Python 3",
      "language": "python",
      "name": "python3"
    },
    "language_info": {
      "codemirror_mode": {
        "name": "ipython",
        "version": 3
      },
      "file_extension": ".py",
      "mimetype": "text/x-python",
      "name": "python",
      "nbconvert_exporter": "python",
      "pygments_lexer": "ipython3",
      "version": "3.7.9"
    }
  },
  "nbformat": 4,
  "nbformat_minor": 0
}