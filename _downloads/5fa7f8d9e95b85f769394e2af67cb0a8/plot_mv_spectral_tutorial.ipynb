{
  "cells": [
    {
      "cell_type": "code",
      "execution_count": null,
      "metadata": {
        "collapsed": false
      },
      "outputs": [],
      "source": [
        "%matplotlib inline"
      ]
    },
    {
      "cell_type": "markdown",
      "metadata": {},
      "source": [
        "\n# Multiview Spectral Clustering Tutorial\n\nThis tutorial demonstrates how to use multiview spectral clustering\nto cluster multiview datasets, showing results on both synthetic data\nand the UCI multiview digits dataset.\n"
      ]
    },
    {
      "cell_type": "code",
      "execution_count": null,
      "metadata": {
        "collapsed": false
      },
      "outputs": [],
      "source": [
        "import warnings\nimport numpy as np\nimport matplotlib.pyplot as plt\n\nfrom sklearn.cluster import SpectralClustering\nfrom sklearn.metrics import normalized_mutual_info_score as nmi_score\nfrom sklearn.datasets import make_moons\n\nfrom mvlearn.datasets import load_UCImultifeature\nfrom mvlearn.cluster import MultiviewSpectralClustering\nfrom mvlearn.plotting import quick_visualize\n\nwarnings.simplefilter('ignore')  # Ignore warnings\nRANDOM_SEED = 10"
      ]
    },
    {
      "cell_type": "markdown",
      "metadata": {},
      "source": [
        "## Plotting and moon data generating functions\nFor this example, we use the sklearn make_moons function to make two\ninterleaving half circles in two views. We then use spectral clustering to\nseparate the two views. As we can see below, multi-view spectral clustering\nis capable of effectively clustering non-convex cluster shapes, similarly to\nits single-view analog.\n\nThe following function plots both views of data given a dataset and\ncorresponding labels.\n\n"
      ]
    },
    {
      "cell_type": "code",
      "execution_count": null,
      "metadata": {
        "collapsed": false
      },
      "outputs": [],
      "source": [
        "def display_plots(pre_title, data, labels):\n    # plot the views\n    fig, ax = plt.subplots(1, 2, figsize=(14, 5))\n    dot_size = 10\n    ax[0].scatter(data[0][:, 0], data[0][:, 1], c=labels, s=dot_size)\n    ax[0].set_title(pre_title + ' View 1')\n    ax[0].axes.get_xaxis().set_visible(False)\n    ax[0].axes.get_yaxis().set_visible(False)\n\n    ax[1].scatter(data[1][:, 0], data[1][:, 1], c=labels, s=dot_size)\n    ax[1].set_title(pre_title + ' View 2')\n    ax[1].axes.get_xaxis().set_visible(False)\n    ax[1].axes.get_yaxis().set_visible(False)\n\n    plt.show()\n\n\n# A function to generate the moons data\ndef create_moons(seed, num_per_class=200):\n    np.random.seed(seed)\n    data = []\n    labels = []\n\n    for view in range(2):\n        v_dat, v_labs = make_moons(num_per_class*2,\n                                   random_state=seed + view, noise=0.05,\n                                   shuffle=False)\n        if view == 1:\n            v_dat = v_dat[:, ::-1]\n\n        data.append(v_dat)\n    for ind in range(len(data)):\n        labels.append(ind * np.ones(num_per_class,))\n    labels = np.concatenate(labels)\n\n    return data, labels\n\n\n# Generating the data\nm_data, labels = create_moons(RANDOM_SEED)\nn_class = 2"
      ]
    },
    {
      "cell_type": "markdown",
      "metadata": {},
      "source": [
        "## Single-view spectral clustering\n\nCluster each view separately\n\n"
      ]
    },
    {
      "cell_type": "code",
      "execution_count": null,
      "metadata": {
        "collapsed": false
      },
      "outputs": [],
      "source": [
        "s_spectral = SpectralClustering(n_clusters=n_class,\n                                affinity='nearest_neighbors',\n                                random_state=RANDOM_SEED, n_init=10)\ns_clusters_v1 = s_spectral.fit_predict(m_data[0])\ns_clusters_v2 = s_spectral.fit_predict(m_data[1])\n\n# Concatenate the multiple views into a single view\ns_data = np.hstack(m_data)\ns_clusters = s_spectral.fit_predict(s_data)\n\n# Compute nmi between true class labels and single-view cluster labels\ns_nmi_v1 = nmi_score(labels, s_clusters_v1)\ns_nmi_v2 = nmi_score(labels, s_clusters_v2)\ns_nmi = nmi_score(labels, s_clusters)\nprint('Single-view View 1 NMI Score: {0:.3f}\\n'.format(s_nmi_v1))\nprint('Single-view View 2 NMI Score: {0:.3f}\\n'.format(s_nmi_v2))\nprint('Single-view Concatenated NMI Score: {0:.3f}\\n'.format(s_nmi))"
      ]
    },
    {
      "cell_type": "markdown",
      "metadata": {},
      "source": [
        "## Multiview spectral clustering\n\nUse the MultiviewSpectralClustering instance to cluster the data\n\n"
      ]
    },
    {
      "cell_type": "code",
      "execution_count": null,
      "metadata": {
        "collapsed": false
      },
      "outputs": [],
      "source": [
        "m_spectral = MultiviewSpectralClustering(n_clusters=n_class,\n                                         affinity='nearest_neighbors',\n                                         max_iter=12, random_state=RANDOM_SEED,\n                                         n_init=10)\nm_clusters = m_spectral.fit_predict(m_data)\n\n# Compute nmi between true class labels and multi-view cluster labels\nm_nmi = nmi_score(labels, m_clusters)\nprint('Multi-view NMI Score: {0:.3f}\\n'.format(m_nmi))"
      ]
    },
    {
      "cell_type": "markdown",
      "metadata": {},
      "source": [
        "Plots of clusters produced by multi-view spectral clustering and the true\nclusters\n\nWe will display the clustering results of the Multi-view spectral clustering\nalgorithm below, along with the true class labels.\n\n"
      ]
    },
    {
      "cell_type": "code",
      "execution_count": null,
      "metadata": {
        "collapsed": false
      },
      "outputs": [],
      "source": [
        "display_plots('Ground Truth', m_data, labels)\ndisplay_plots('Multi-view Clustering', m_data, m_clusters)"
      ]
    },
    {
      "cell_type": "markdown",
      "metadata": {},
      "source": [
        "## Performance on the UCI Digits Multiple Features data set with 2 views\n\nHere we will compare the performance of the Multi-view and Single-view\nversions of spectral clustering. We will evaluate the purity of the resulting\nclusters from each algorithm with respect to the class labels using the\nnormalized mutual information metric.\n\nAs we can see, Multi-view clustering produces clusters with higher purity\ncompared to those produced by Single-view clustering for all 3 input types.\n\n"
      ]
    },
    {
      "cell_type": "code",
      "execution_count": null,
      "metadata": {
        "collapsed": false
      },
      "outputs": [],
      "source": [
        "# Load dataset along with labels for digits 0 through 4\nn_class = 5\nXs, labels = load_UCImultifeature(\n    select_labeled=list(range(n_class)), views=[0, 1])"
      ]
    },
    {
      "cell_type": "markdown",
      "metadata": {},
      "source": [
        "## Singleview spectral clustering\n\nCluster each view separately\n\n"
      ]
    },
    {
      "cell_type": "code",
      "execution_count": null,
      "metadata": {
        "collapsed": false
      },
      "outputs": [],
      "source": [
        "s_spectral = SpectralClustering(n_clusters=n_class, random_state=RANDOM_SEED,\n                                n_init=100)\n\nfor i in range(len(Xs)):\n    s_clusters = s_spectral.fit_predict(Xs[i])\n    s_nmi = nmi_score(labels, s_clusters, average_method='arithmetic')\n    print('Single-view View {0:d} NMI Score: {1:.3f}\\n'.format(i + 1, s_nmi))\n\n# Concatenate the multiple views into a single view and produce clusters\nX = np.hstack(Xs)\ns_clusters = s_spectral.fit_predict(X)\n\ns_nmi = nmi_score(labels, s_clusters)\nprint('Single-view Concatenated NMI Score: {0:.3f}\\n'.format(s_nmi))"
      ]
    },
    {
      "cell_type": "markdown",
      "metadata": {},
      "source": [
        "## Multiview spectral clustering\n\nUse the MultiviewSpectralClustering instance to cluster the data\n\n"
      ]
    },
    {
      "cell_type": "code",
      "execution_count": null,
      "metadata": {
        "collapsed": false
      },
      "outputs": [],
      "source": [
        "m_spectral1 = MultiviewSpectralClustering(n_clusters=n_class,\n                                          random_state=RANDOM_SEED,\n                                          n_init=10)\nm_clusters1 = m_spectral1.fit_predict(Xs)\n\n# Compute nmi between true class labels and multi-view cluster labels\nm_nmi1 = nmi_score(labels, m_clusters1)\nprint('Multi-view NMI Score: {0:.3f}\\n'.format(m_nmi1))"
      ]
    },
    {
      "cell_type": "markdown",
      "metadata": {},
      "source": [
        "Plots of clusters produced by multi-view spectral clustering and the true\nclusters\n\nWe will display the clustering results of the Multi-view spectral clustering\nalgorithm below, along with the true class labels.\n\n"
      ]
    },
    {
      "cell_type": "code",
      "execution_count": null,
      "metadata": {
        "collapsed": false
      },
      "outputs": [],
      "source": [
        "quick_visualize(Xs, labels=labels, title='Ground Truth',\n                scatter_kwargs={'s': 8})\nquick_visualize(Xs, labels=m_clusters1, title='Multi-view Clustering',\n                scatter_kwargs={'s': 8})"
      ]
    }
  ],
  "metadata": {
    "kernelspec": {
      "display_name": "Python 3",
      "language": "python",
      "name": "python3"
    },
    "language_info": {
      "codemirror_mode": {
        "name": "ipython",
        "version": 3
      },
      "file_extension": ".py",
      "mimetype": "text/x-python",
      "name": "python",
      "nbconvert_exporter": "python",
      "pygments_lexer": "ipython3",
      "version": "3.7.9"
    }
  },
  "nbformat": 4,
  "nbformat_minor": 0
}