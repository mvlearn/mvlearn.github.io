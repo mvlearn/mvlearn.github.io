{
  "cells": [
    {
      "cell_type": "code",
      "execution_count": null,
      "metadata": {
        "collapsed": false
      },
      "outputs": [],
      "source": [
        "%matplotlib inline"
      ]
    },
    {
      "cell_type": "markdown",
      "metadata": {},
      "source": [
        "\n# Plotting Multiview Data with a Cross-view Plot\n\nIn many cases with multi-view data, especially after use of an embedding\nalgorithm, one is interested in visualizing two views across dimensions.\nOne use is assessing correlation between corresponding dimensions of views.\nHere, we use this function to display the relationship between two views\nsimulated from transformations of multi-variant gaussians.\n"
      ]
    },
    {
      "cell_type": "code",
      "execution_count": null,
      "metadata": {
        "collapsed": false
      },
      "outputs": [],
      "source": [
        "from mvlearn.datasets import GaussianMixture\nfrom mvlearn.plotting import crossviews_plot\nimport numpy as np\n\n\nn_samples = 100\ncenters = [[0, 1], [0, -1]]\ncovariances = [np.eye(2), np.eye(2)]\nGM = GaussianMixture(n_samples, centers, covariances, shuffle=True)\nGM = GM.sample_views(transform='poly', n_noise=2)\n\n# Below, we see that the first two dimensions are related by a degree 2\n# polynomial while the latter two dimensions are uncorrelated.\n\n\ncrossviews_plot(GM.Xs_, labels=GM.y_,\n                title='View 1 vs. View 2 (Polynomial \\\n                    Transform + noise)', equal_axes=True)"
      ]
    }
  ],
  "metadata": {
    "kernelspec": {
      "display_name": "Python 3",
      "language": "python",
      "name": "python3"
    },
    "language_info": {
      "codemirror_mode": {
        "name": "ipython",
        "version": 3
      },
      "file_extension": ".py",
      "mimetype": "text/x-python",
      "name": "python",
      "nbconvert_exporter": "python",
      "pygments_lexer": "ipython3",
      "version": "3.7.9"
    }
  },
  "nbformat": 4,
  "nbformat_minor": 0
}