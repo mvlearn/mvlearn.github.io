{
  "cells": [
    {
      "cell_type": "code",
      "execution_count": null,
      "metadata": {
        "collapsed": false
      },
      "outputs": [],
      "source": [
        "%matplotlib inline"
      ]
    },
    {
      "cell_type": "markdown",
      "metadata": {},
      "source": [
        "\n# Multiview vs. singlview Spherical KMeans performance vs. class separation\n\nNote, this tutorial compares performance against the SphericalKMeans\nfunction from the spherecluster package which is not a installed dependency\nof mvlearn.\n"
      ]
    },
    {
      "cell_type": "code",
      "execution_count": null,
      "metadata": {
        "collapsed": false
      },
      "outputs": [],
      "source": [
        "import numpy as np\nfrom mvlearn.cluster.mv_spherical_kmeans import MultiviewSphericalKMeans\nfrom spherecluster import SphericalKMeans, sample_vMF\nfrom sklearn.metrics import normalized_mutual_info_score as nmi_score\nfrom sklearn.preprocessing import normalize\nimport matplotlib.pyplot as plt\nimport warnings\nwarnings.filterwarnings('ignore')"
      ]
    },
    {
      "cell_type": "markdown",
      "metadata": {},
      "source": [
        "A function to generate 2 views of data for 2 classes\n\nThis function takes parameters for means, kappas (concentration parameter),\nand number of samples for class and generates data based on those parameters.\nThe underlying probability distribution of the data is a von Mises-Fisher\ndistribution.\n\n"
      ]
    },
    {
      "cell_type": "code",
      "execution_count": null,
      "metadata": {
        "collapsed": false
      },
      "outputs": [],
      "source": [
        "def create_data(seed, vmeans, vkappas, num_per_class=500):\n    np.random.seed(seed)\n    data = [[], []]\n    for view in range(2):\n        for comp in range(len(vmeans[0])):\n            comp_samples = sample_vMF(\n                vmeans[view][comp], vkappas[view][comp], num_per_class)\n            data[view].append(comp_samples)\n    for view in range(2):\n        data[view] = np.vstack(data[view])\n\n    labels = list()\n    for ind in range(len(vmeans[0])):\n        labels.append(ind * np.ones(num_per_class,))\n\n    labels = np.concatenate(labels)\n\n    return data, labels"
      ]
    },
    {
      "cell_type": "markdown",
      "metadata": {},
      "source": [
        "Creating a function to display data and the results of clustering\n\nThe following function plots both views of data given a dataset and\ncorresponding labels.\n\n"
      ]
    },
    {
      "cell_type": "code",
      "execution_count": null,
      "metadata": {
        "collapsed": false
      },
      "outputs": [],
      "source": [
        "def display_plots(pre_title, data, labels):\n    # plot the views\n    fig = plt.figure(figsize=(14, 10))\n    for v in range(2):\n        ax = fig.add_subplot(\n            1, 2, v+1, projection='3d',\n            xlim=[-1.1, 1.1], ylim=[-1.1, 1.1], zlim=[-1.1, 1.1]\n        )\n        ax.scatter(data[v][:, 0], data[v][:, 1], data[v][:, 2], c=labels, s=8)\n        ax.set_title(pre_title + ' View ' + str(v))\n        plt.axis('off')\n\n    plt.show()"
      ]
    },
    {
      "cell_type": "markdown",
      "metadata": {},
      "source": [
        "## Function to perform both singleview and multiview Spherical KMeans clustering\n\n"
      ]
    },
    {
      "cell_type": "code",
      "execution_count": null,
      "metadata": {
        "collapsed": false
      },
      "outputs": [],
      "source": [
        "def perform_clustering(seed, m_data, labels, n_clusters):\n    # Singleview spherical kmeans clustering\n    # Cluster each view separately\n    s_kmeans = SphericalKMeans(n_clusters=n_clusters,\n                               random_state=seed, n_init=100)\n    s_clusters_v1 = s_kmeans.fit_predict(m_data[0])\n    s_clusters_v2 = s_kmeans.fit_predict(m_data[1])\n\n    # Concatenate the multiple views into a single view\n    s_data = np.hstack(m_data)\n    s_clusters = s_kmeans.fit_predict(s_data)\n\n    # Compute nmi between true class labels and singleview cluster labels\n    s_nmi_v1 = nmi_score(labels, s_clusters_v1)\n    s_nmi_v2 = nmi_score(labels, s_clusters_v2)\n    s_nmi = nmi_score(labels, s_clusters)\n    print('Singleview View 1 NMI Score: {0:.3f}\\n'.format(s_nmi_v1))\n    print('Singleview View 2 NMI Score: {0:.3f}\\n'.format(s_nmi_v2))\n    print('Singleview Concatenated NMI Score: {0:.3f}\\n'.format(s_nmi))\n\n    # Multiview spherical kmeans clustering\n\n    # Use the MultiviewKMeans instance to cluster the data\n    m_kmeans = MultiviewSphericalKMeans(\n        n_clusters=n_clusters, n_init=100, random_state=seed)\n    m_clusters = m_kmeans.fit_predict(m_data)\n\n    # Compute nmi between true class labels and multiview cluster labels\n    m_nmi = nmi_score(labels, m_clusters)\n    print('Multiview NMI Score: {0:.3f}\\n'.format(m_nmi))\n\n    return m_clusters"
      ]
    },
    {
      "cell_type": "markdown",
      "metadata": {},
      "source": [
        "## General experimentation procedures\n\nFor each of the experiments below, we run both singleview spherical kmeans\nclustering and multiview spherical kmeans clustering. For evaluating single-\nview performance, we run the algorithm on each view separately as well as all\nviews concatenated together. We evalaute performance using normalized mutual\ninformation, which is a measure of cluster purity with respect to the true\nlabels. For both algorithms, we use an n_init value of 100, which means that\nwe run each algorithm across 100 random cluster initializations and select\nthe best clustering results with respect to cluster inertia.\n\n"
      ]
    },
    {
      "cell_type": "markdown",
      "metadata": {},
      "source": [
        "### Performance when cluster components in both views are well separated\nAs we can see, multiview kmeans clustering performs about as well as\nsingleview spherical kmeans clustering for the concatenated views, and\nsingleview spherical kmeans clustering for view 1.\n\n"
      ]
    },
    {
      "cell_type": "code",
      "execution_count": null,
      "metadata": {
        "collapsed": false
      },
      "outputs": [],
      "source": [
        "RANDOM_SEED = 10\n\nv1_kappas = [15, 15]\nv2_kappas = [15, 15]\nkappas = [v1_kappas, v2_kappas]\nv1_mus = np.array([[-1, 1, 1], [1, 1, 1]])\nv1_mus = normalize(v1_mus)\nv2_mus = np.array([[1, -1, 1], [1, -1, -1]])\nv2_mus = normalize(v2_mus)\nv_means = [v1_mus, v2_mus]\ndata, labels = create_data(RANDOM_SEED, v_means, kappas)\n\nm_clusters = perform_clustering(RANDOM_SEED, data, labels, 2)\ndisplay_plots('Ground Truth', data, labels)\ndisplay_plots('Multiview Clustering', data, m_clusters)"
      ]
    },
    {
      "cell_type": "markdown",
      "metadata": {},
      "source": [
        "### Performance when cluster components are relatively inseparable in both views\n\nAs we can see, multiview spherical kmeans clustering performs about as\npoorly as singleview spherical kmeans clustering across both individual\nviews and concatenated views as inputs.\n\n"
      ]
    },
    {
      "cell_type": "code",
      "execution_count": null,
      "metadata": {
        "collapsed": false
      },
      "outputs": [],
      "source": [
        "v1_kappas = [15, 15]\nv2_kappas = [15, 15]\nkappas = [v1_kappas, v2_kappas]\nv1_mus = np.array([[0.5, 1, 1], [1, 1, 1]])\nv1_mus = normalize(v1_mus)\nv2_mus = np.array([[1, -1, 1], [1, -1, 0.5]])\nv2_mus = normalize(v2_mus)\nv_means = [v1_mus, v2_mus]\ndata, labels = create_data(RANDOM_SEED, v_means, kappas)\n\nm_clusters = perform_clustering(RANDOM_SEED, data, labels, 2)\ndisplay_plots('Ground Truth', data, labels)\ndisplay_plots('Multiview Clustering', data, m_clusters)"
      ]
    },
    {
      "cell_type": "markdown",
      "metadata": {},
      "source": [
        "### Performance when cluster components are somewhat separable in both views\n\nAgain we can see that multiview spherical kmeans clustering performs about\nas well as singleview spherical kmeans clustering for the concatenated\nviews, and both of these perform better than on singleview spherical kmeans\nclustering for just one view.\n\n"
      ]
    },
    {
      "cell_type": "code",
      "execution_count": null,
      "metadata": {
        "collapsed": false
      },
      "outputs": [],
      "source": [
        "v1_kappas = [15, 10]\nv2_kappas = [10, 15]\nkappas = [v1_kappas, v2_kappas]\nv1_mus = np.array([[-0.5, 1, 1], [1, 1, 1]])\nv1_mus = normalize(v1_mus)\nv2_mus = np.array([[1, -1, 1], [1, -1, -0.2]])\nv2_mus = normalize(v2_mus)\nv_means = [v1_mus, v2_mus]\ndata, labels = create_data(RANDOM_SEED, v_means, kappas)\n\nm_clusters = perform_clustering(RANDOM_SEED, data, labels, 2)\ndisplay_plots('Ground Truth', data, labels)\ndisplay_plots('Multiview Clustering', data, m_clusters)"
      ]
    },
    {
      "cell_type": "markdown",
      "metadata": {},
      "source": [
        "### Performance when cluster components are highly overlapping in one view\n\nAs we can see, multiview spherical kmeans clustering performs worse than\nsingleview spherical kmeans clustering with concatenated views as inputs and\nwith the best view as the input.\n\n"
      ]
    },
    {
      "cell_type": "code",
      "execution_count": null,
      "metadata": {
        "collapsed": false
      },
      "outputs": [],
      "source": [
        "v1_kappas = [15, 15]\nv2_kappas = [15, 15]\nkappas = [v1_kappas, v2_kappas]\nv1_mus = np.array([[1, -0.5, 1], [1, 1, 1]])\nv1_mus = normalize(v1_mus)\nv2_mus = np.array([[1, -1, 1], [1, -1, 0.6]])\nv2_mus = normalize(v2_mus)\nv_means = [v1_mus, v2_mus]\ndata, labels = create_data(RANDOM_SEED, v_means, kappas)\n\nm_clusters = perform_clustering(RANDOM_SEED, data, labels, 2)\ndisplay_plots('Ground Truth', data, labels)\ndisplay_plots('Multiview Clustering', data, m_clusters)"
      ]
    },
    {
      "cell_type": "markdown",
      "metadata": {},
      "source": [
        "### Conclusions\n\nHere, we have seen some of the limitations of multiview spherical kmeans\nclustering. From the experiments above, it is apparent that multiview\nspherical kmeans clustering performs equally as well or worse than singleview\nspherical kmeans clustering on concatenated data when views are informative\nbut the data is fairly simple (i.e. only has 2 features per view). However,\nit is clear that the multiview spherical kmeans algorithm does perform better\non well separated cluster components than it does on highly overlapping\ncluster components, which does validate it's basic functionality as a\nclustering algorithm.\n\n"
      ]
    }
  ],
  "metadata": {
    "kernelspec": {
      "display_name": "Python 3",
      "language": "python",
      "name": "python3"
    },
    "language_info": {
      "codemirror_mode": {
        "name": "ipython",
        "version": 3
      },
      "file_extension": ".py",
      "mimetype": "text/x-python",
      "name": "python",
      "nbconvert_exporter": "python",
      "pygments_lexer": "ipython3",
      "version": "3.7.9"
    }
  },
  "nbformat": 4,
  "nbformat_minor": 0
}