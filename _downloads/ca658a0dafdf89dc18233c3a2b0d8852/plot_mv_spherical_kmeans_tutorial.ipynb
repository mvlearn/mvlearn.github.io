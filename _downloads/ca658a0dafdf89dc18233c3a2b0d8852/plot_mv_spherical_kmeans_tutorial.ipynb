{
  "cells": [
    {
      "cell_type": "code",
      "execution_count": null,
      "metadata": {
        "collapsed": false
      },
      "outputs": [],
      "source": [
        "%matplotlib inline"
      ]
    },
    {
      "cell_type": "markdown",
      "metadata": {},
      "source": [
        "\n# Multiview Spherical KMeans Tutorial\n\nThis tutorial demonstrates the multiview spherical k-means algorithm\non 2 views of the UCI multiview digits dataset.\n"
      ]
    },
    {
      "cell_type": "code",
      "execution_count": null,
      "metadata": {
        "collapsed": false
      },
      "outputs": [],
      "source": [
        "from mvlearn.datasets import load_UCImultifeature\nfrom mvlearn.cluster import MultiviewSphericalKMeans\nfrom sklearn.manifold import TSNE\nfrom sklearn.metrics import normalized_mutual_info_score as nmi_score\nimport matplotlib.pyplot as plt\nimport warnings\nwarnings.simplefilter('ignore')  # Ignore warnings\n\n# Load in UCI digits multiple feature dataset as an example\n\nRANDOM_SEED = 5\n# Load dataset along with labels for digits 0 through 4\nn_class = 5\nXs, labels = load_UCImultifeature(\n    select_labeled=list(range(n_class)), views=[0, 1])\n\n\n# Creating a function to display data and the results of clustering\ndef display_plots(pre_title, data, labels):\n    # plot the views\n    fig, ax = plt.subplots(1, 2, figsize=(14, 5))\n    dot_size = 10\n    ax[0].scatter(data[0][:, 0], data[0][:, 1], c=labels, s=dot_size)\n    ax[0].set_title(pre_title + ' View 1')\n    ax[0].axes.get_xaxis().set_visible(False)\n    ax[0].axes.get_yaxis().set_visible(False)\n\n    ax[1].scatter(data[1][:, 0], data[1][:, 1], c=labels, s=dot_size)\n    ax[1].set_title(pre_title + ' View 2')\n    ax[1].axes.get_xaxis().set_visible(False)\n    ax[1].axes.get_yaxis().set_visible(False)\n\n    plt.show()"
      ]
    },
    {
      "cell_type": "markdown",
      "metadata": {},
      "source": [
        "## Multiview spherical KMeans clustering on 2 views\n\nHere we will demonstrate the performance of the multiview spherical kmeans\nclustering. We will evaluate the purity of the resulting clusters with\nrespect to the class labels using the normalized mutual information metric.\n\nUse the MultiviewSphericalKMeans instance to cluster the data\n\n"
      ]
    },
    {
      "cell_type": "code",
      "execution_count": null,
      "metadata": {
        "collapsed": false
      },
      "outputs": [],
      "source": [
        "m_kmeans = MultiviewSphericalKMeans(\n    n_clusters=n_class, random_state=RANDOM_SEED)\n\nm_clusters = m_kmeans.fit_predict(Xs)\n\n# Compute nmi between true class labels and multiview cluster labels\nm_nmi = nmi_score(labels, m_clusters)\nprint('multiview NMI Score: {0:.3f}\\n'.format(m_nmi))"
      ]
    },
    {
      "cell_type": "markdown",
      "metadata": {},
      "source": [
        "## Multiview spectral clustering results and the true clusters\nWe will display the clustering results of the multiview kmeans clustering\nalgorithm below, along with the true class labels.\n\n"
      ]
    },
    {
      "cell_type": "code",
      "execution_count": null,
      "metadata": {
        "collapsed": false
      },
      "outputs": [],
      "source": [
        "# Running TSNE to display clustering results via low dimensional embedding\ntsne = TSNE()\nnew_data_1 = tsne.fit_transform(Xs[0])\nnew_data_2 = tsne.fit_transform(Xs[1])\nnew_data = [new_data_1, new_data_2]\n\ndisplay_plots('True Labels', new_data, labels)\ndisplay_plots('multiview KMeans Clusters', new_data, m_clusters)"
      ]
    },
    {
      "cell_type": "markdown",
      "metadata": {},
      "source": [
        "### Multiview spherical KMeans clustering different parameters\nHere we will follow a similar procedure as before, but we will be using a\ndifferent configuration of parameters for multiview Spherical KMeans\nClustering.\n\n"
      ]
    },
    {
      "cell_type": "code",
      "execution_count": null,
      "metadata": {
        "collapsed": false
      },
      "outputs": [],
      "source": [
        "# Use the MultiviewSphericalKMeans instance to cluster the data\nm_kmeans = MultiviewSphericalKMeans(\n    n_clusters=n_class, n_init=10, max_iter=6, patience=2,\n    random_state=RANDOM_SEED)\nm_clusters = m_kmeans.fit_predict(Xs)\n\n# Compute nmi between true class labels and multiview cluster labels\nm_nmi = nmi_score(labels, m_clusters)\nprint('multiview NMI Score: {0:.3f}\\n'.format(m_nmi))"
      ]
    }
  ],
  "metadata": {
    "kernelspec": {
      "display_name": "Python 3",
      "language": "python",
      "name": "python3"
    },
    "language_info": {
      "codemirror_mode": {
        "name": "ipython",
        "version": 3
      },
      "file_extension": ".py",
      "mimetype": "text/x-python",
      "name": "python",
      "nbconvert_exporter": "python",
      "pygments_lexer": "ipython3",
      "version": "3.7.9"
    }
  },
  "nbformat": 4,
  "nbformat_minor": 0
}