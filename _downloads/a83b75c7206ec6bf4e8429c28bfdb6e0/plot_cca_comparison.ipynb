{
  "cells": [
    {
      "cell_type": "code",
      "execution_count": null,
      "metadata": {
        "collapsed": false
      },
      "outputs": [],
      "source": [
        "%matplotlib inline"
      ]
    },
    {
      "cell_type": "markdown",
      "metadata": {},
      "source": [
        "\n# Comparing CCA Variants\n\nThis tutorial shows a comparison of Kernel Canonical Correlation Analysis\n(KCCA) with three different types of kernel to Deep Canonical Correlation\nAnalysis (DCCA). Each learns and computes kernels suitable for different\nsituations. The point of this tutorial is to illustrate, in toy examples,\nthe rough intuition as to when such methods work well and generate\nlinearly correlated projections.\n\nThe simulated latent data has two signal dimensions draw from independent\nGaussians. Two views of data were derived from this.\n\n- View 1: The latent data.\n- View 2: A transformation of the latent data.\n\nTo each view, two additional independent Gaussian noise dimensions were added.\n\nEach 2x2 grid of subplots in the figure corresponds to a transformation and\neither the raw data or a CCA variant. The x-axes are the data from view 1\nand the y-axes are the data from view 2. Plotted are the correlations between\nthe signal dimensions of the raw views and the top two components of each\nview after a CCA variant transformation. Linearly correlated plots on the\ndiagonals of the 2x2 grids indicate that the CCA method was able to\nsuccessfully learn the underlying functional relationship between the two\nviews.\n"
      ]
    },
    {
      "cell_type": "code",
      "execution_count": null,
      "metadata": {
        "collapsed": false
      },
      "outputs": [],
      "source": [
        "from mvlearn.embed import KCCA, DCCA\nfrom mvlearn.datasets import GaussianMixture\nimport numpy as np\nimport matplotlib.pyplot as plt\nimport matplotlib\nimport seaborn as sns\n\n\n# Make Latents\nn_samples = 200\ncenters = [[0, 1], [0, -1]]\ncovariances = 2*np.array([np.eye(2), np.eye(2)])\ngm_train = GaussianMixture(n_samples, centers, covariances)\n\n# Test\ngm_test = GaussianMixture(n_samples, centers, covariances)\n\n# Make 2 views\nn_noise = 2\ntransforms = ['linear', 'poly', 'sin']\n\nXs_train = []\nXs_test = []\nfor transform in transforms:\n    gm_train.sample_views(transform=transform, n_noise=n_noise)\n    gm_test.sample_views(transform=transform, n_noise=n_noise)\n\n    Xs_train.append(gm_train.get_Xy()[0])\n    Xs_test.append(gm_test.get_Xy()[0])\n\n\n# Plotting parameters\nlabels = gm_test.latent_[:, 0]\ncmap = matplotlib.colors.ListedColormap(\n    sns.diverging_palette(240, 10, n=len(labels), center='light').as_hex())\ncmap = 'coolwarm'\n\nmethod_labels = \\\n    ['Raw Views', 'Linear KCCA', 'Polynomial KCCA', 'Gaussian KCCA', 'DCCA']\ntransform_labels = \\\n    ['Linear Transform', 'Polynomial Transform', 'Sinusoidal Transform']\n\ninput_size1, input_size2 = Xs_train[0][0].shape[1], Xs_train[0][1].shape[1]\noutdim_size = min(Xs_train[0][0].shape[1], 2)\nlayer_sizes1 = [256, 256, outdim_size]\nlayer_sizes2 = [256, 256, outdim_size]\nmethods = [\n    KCCA(ktype='linear', reg=0.1, degree=2.0, constant=0.1, n_components=2),\n    KCCA(ktype='poly', reg=0.1, degree=2.0, constant=0.1, n_components=2),\n    KCCA(ktype='gaussian', reg=1.0, sigma=2.0, n_components=2),\n    DCCA(input_size1, input_size2, outdim_size, layer_sizes1, layer_sizes2,\n         epoch_num=400)\n]\n\nfig, axes = plt.subplots(3 * 2, 5 * 2, figsize=(20, 12))\nsns.set_context('notebook')\n\nfor r, transform in enumerate(transforms):\n    axs = axes[2 * r:2 * r + 2, :2]\n    for i, ax in enumerate(axs.flatten()):\n        dim2 = int(i / 2)\n        dim1 = i % 2\n        ax.scatter(\n            Xs_test[r][0][:, dim1],\n            Xs_test[r][1][:, dim2],\n            cmap=cmap,\n            c=labels,\n        )\n        ax.set_xticks([], [])\n        ax.set_yticks([], [])\n        if dim1 == 0:\n            ax.set_ylabel(f\"View 2 Dim {dim2+1}\")\n        if dim1 == 0 and dim2 == 0:\n            ax.text(-0.5, -0.1, transform_labels[r], transform=ax.transAxes,\n                    fontsize=18, rotation=90, verticalalignment='center')\n        if dim2 == 1 and r == len(transforms)-1:\n            ax.set_xlabel(f\"View 1 Dim {dim1+1}\")\n        if i == 0 and r == 0:\n            ax.set_title(method_labels[r],\n                         {'position': (1.11, 1), 'fontsize': 18})\n\n    for c, method in enumerate(methods):\n        axs = axes[2*r: 2*r+2, 2*c+2:2*c+4]\n        Xs = method.fit(Xs_train[r]).transform(Xs_test[r])\n        for i, ax in enumerate(axs.flatten()):\n            dim2 = int(i / 2)\n            dim1 = i % 2\n            ax.scatter(\n                Xs[0][:, dim1],\n                Xs[1][:, dim2],\n                cmap=cmap,\n                c=labels,\n            )\n            if dim2 == 1 and r == len(transforms)-1:\n                ax.set_xlabel(f\"View 1 Dim {dim1+1}\")\n            if i == 0 and r == 0:\n                ax.set_title(method_labels[c + 1], {'position': (1.11, 1),\n                             'fontsize': 18})\n            ax.axis(\"equal\")\n            ax.set_xticks([], [])\n            ax.set_yticks([], [])"
      ]
    }
  ],
  "metadata": {
    "kernelspec": {
      "display_name": "Python 3",
      "language": "python",
      "name": "python3"
    },
    "language_info": {
      "codemirror_mode": {
        "name": "ipython",
        "version": 3
      },
      "file_extension": ".py",
      "mimetype": "text/x-python",
      "name": "python",
      "nbconvert_exporter": "python",
      "pygments_lexer": "ipython3",
      "version": "3.7.9"
    }
  },
  "nbformat": 4,
  "nbformat_minor": 0
}