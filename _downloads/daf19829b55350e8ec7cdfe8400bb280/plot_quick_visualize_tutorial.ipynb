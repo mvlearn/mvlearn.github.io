{
  "cells": [
    {
      "cell_type": "code",
      "execution_count": null,
      "metadata": {
        "collapsed": false
      },
      "outputs": [],
      "source": [
        "%matplotlib inline"
      ]
    },
    {
      "cell_type": "markdown",
      "metadata": {},
      "source": [
        "\n# Quickly Visualizing Multiview Data\n\nOften, before beginning extensive analysis, it is a good idea to visualize\nyour dataset to help you understand its distribution and design algorithms.\nAs a simple example, say we had high-dimensional multi-view data that we\nwanted to quickly visualize before we begin our analysis. With the\n*quick_visualize* function, we can easily do this. As an example, we will\nvisualize the UCI Multiple Features dataset, which consists of 6\nviews of varying dimensionality.\n"
      ]
    },
    {
      "cell_type": "code",
      "execution_count": null,
      "metadata": {
        "collapsed": false
      },
      "outputs": [],
      "source": [
        "# License: MIT\n\nfrom mvlearn.plotting import quick_visualize\nfrom mvlearn.datasets import load_UCImultifeature"
      ]
    },
    {
      "cell_type": "markdown",
      "metadata": {},
      "source": [
        "## Visualize the Multiview Data\n\nWhile a 2D plot will never fully capture the essence of a 6-view dataset,\nthis simple visualization helps us build intuition about the dataset by\nshowing us that it can be projected to a nearly-separable subspace.\n\n"
      ]
    },
    {
      "cell_type": "code",
      "execution_count": null,
      "metadata": {
        "collapsed": false
      },
      "outputs": [],
      "source": [
        "# Load 4-class data\nXs, y = load_UCImultifeature(select_labeled=[0, 1, 2, 3])\n\n# Visualize the data in 2D, coloring the points by their class label (0-3)\nquick_visualize(Xs, labels=y, title='Labeled Data in 2D', figsize=(5, 5))"
      ]
    }
  ],
  "metadata": {
    "kernelspec": {
      "display_name": "Python 3",
      "language": "python",
      "name": "python3"
    },
    "language_info": {
      "codemirror_mode": {
        "name": "ipython",
        "version": 3
      },
      "file_extension": ".py",
      "mimetype": "text/x-python",
      "name": "python",
      "nbconvert_exporter": "python",
      "pygments_lexer": "ipython3",
      "version": "3.7.11"
    }
  },
  "nbformat": 4,
  "nbformat_minor": 0
}