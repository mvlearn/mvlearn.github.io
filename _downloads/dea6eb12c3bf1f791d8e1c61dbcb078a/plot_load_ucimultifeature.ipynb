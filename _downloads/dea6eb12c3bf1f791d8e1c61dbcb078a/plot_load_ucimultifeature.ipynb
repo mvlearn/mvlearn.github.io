{
  "cells": [
    {
      "cell_type": "code",
      "execution_count": null,
      "metadata": {
        "collapsed": false
      },
      "outputs": [],
      "source": [
        "%matplotlib inline"
      ]
    },
    {
      "cell_type": "markdown",
      "metadata": {},
      "source": [
        "\n# Loading and Viewing the UCI Multiple Features Dataset\n"
      ]
    },
    {
      "cell_type": "code",
      "execution_count": null,
      "metadata": {
        "collapsed": false
      },
      "outputs": [],
      "source": [
        "from mvlearn.datasets import load_UCImultifeature\nfrom mvlearn.plotting import quick_visualize"
      ]
    },
    {
      "cell_type": "markdown",
      "metadata": {},
      "source": [
        "## Load the data and labels\nWe can either load the entire dataset (all 10 digits) or select certain\ndigits. Then, visualize in 2D.\n\n"
      ]
    },
    {
      "cell_type": "code",
      "execution_count": null,
      "metadata": {
        "collapsed": false
      },
      "outputs": [],
      "source": [
        "# Load entire dataset\nfull_data, full_labels = load_UCImultifeature()\n\nprint(\"Full Dataset\\n\")\nprint(\"Views = \" + str(len(full_data)))\nprint(\"First view shape = \" + str(full_data[0].shape))\nprint(\"Labels shape = \" + str(full_labels.shape))\n\nquick_visualize(full_data, labels=full_labels, title=\"10-class data\")"
      ]
    },
    {
      "cell_type": "markdown",
      "metadata": {},
      "source": [
        "## Load only 2 classes of the data\n\nAlso, shuffle the data and set the seed for reproducibility. Then, visualize\nin 2D.\n\n"
      ]
    },
    {
      "cell_type": "code",
      "execution_count": null,
      "metadata": {
        "collapsed": false
      },
      "outputs": [],
      "source": [
        "# Load only the examples labeled 0 or 1, and shuffle them,\n# but set the random_state for reproducibility\npartial_data, partial_labels = load_UCImultifeature(\n    select_labeled=[0, 1], shuffle=True, random_state=42)\n\nprint(\"\\n\\nPartial Dataset (only 0's and 1's)\\n\")\nprint(\"Views = \" + str(len(partial_data)))\nprint(\"First view shape = \" + str(partial_data[0].shape))\nprint(\"Labels shape = \" + str(partial_labels.shape))\n\nquick_visualize(partial_data, labels=partial_labels, title=\"2-class data\")"
      ]
    }
  ],
  "metadata": {
    "kernelspec": {
      "display_name": "Python 3",
      "language": "python",
      "name": "python3"
    },
    "language_info": {
      "codemirror_mode": {
        "name": "ipython",
        "version": 3
      },
      "file_extension": ".py",
      "mimetype": "text/x-python",
      "name": "python",
      "nbconvert_exporter": "python",
      "pygments_lexer": "ipython3",
      "version": "3.7.9"
    }
  },
  "nbformat": 4,
  "nbformat_minor": 0
}