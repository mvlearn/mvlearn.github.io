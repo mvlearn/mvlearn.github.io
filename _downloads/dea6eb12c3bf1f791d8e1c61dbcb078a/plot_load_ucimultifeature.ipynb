{
  "cells": [
    {
      "cell_type": "code",
      "execution_count": null,
      "metadata": {
        "collapsed": false
      },
      "outputs": [],
      "source": [
        "%matplotlib inline"
      ]
    },
    {
      "cell_type": "markdown",
      "metadata": {},
      "source": [
        "\n# Loading and Viewing the UCI Multiple Features Dataset\n\nIn this tutorial we demonstrate how to load and quickly visualize the\nMultiple Features Dataset [1] from the UCI repository, which is available\nin mvlearn. This dataset can be a good tool for analyzing the\neffectiveness of multiview algorithms. It contains 6 views of handwritten\ndigit images, thus allowing for analysis of multiview algorithms in\nmulticlass or unsupervised tasks.\n\n[1] M. van Breukelen, R.P.W. Duin, D.M.J. Tax, and J.E. den Hartog,\nHandwritten digit recognition by combined classifiers,\nKybernetika, vol. 34, no. 4, 1998, 381-386\n"
      ]
    },
    {
      "cell_type": "code",
      "execution_count": null,
      "metadata": {
        "collapsed": false
      },
      "outputs": [],
      "source": [
        "# License: MIT\n\nfrom mvlearn.datasets import load_UCImultifeature\nfrom mvlearn.plotting import quick_visualize"
      ]
    },
    {
      "cell_type": "markdown",
      "metadata": {},
      "source": [
        "## Load the data and labels\n\nHere We can load the entire dataset (all 10 digits). Then, visualize in 2D.\n\n"
      ]
    },
    {
      "cell_type": "code",
      "execution_count": null,
      "metadata": {
        "collapsed": false
      },
      "outputs": [],
      "source": [
        "# Load entire dataset\nfull_data, full_labels = load_UCImultifeature()\n\nprint(\"Full Dataset\\n\")\nprint(\"Views = \" + str(len(full_data)))\nprint(\"First view shape = \" + str(full_data[0].shape))\nprint(\"Labels shape = \" + str(full_labels.shape))\n\nquick_visualize(full_data, labels=full_labels, title=\"10-class data\")"
      ]
    },
    {
      "cell_type": "markdown",
      "metadata": {},
      "source": [
        "## Load only 2 Classes of the Data\n\nIf we want only a binary classification setup, we can choose to only load\n2 of the classes. Also, we can shuffle the data and set the seed for\nreproducibility. Then, we visualize in 2D.\n\n"
      ]
    },
    {
      "cell_type": "code",
      "execution_count": null,
      "metadata": {
        "collapsed": false
      },
      "outputs": [],
      "source": [
        "partial_data, partial_labels = load_UCImultifeature(\n    select_labeled=[0, 1], shuffle=True, random_state=42)\n\nprint(\"\\n\\nPartial Dataset (only 0's and 1's)\\n\")\nprint(\"Views = \" + str(len(partial_data)))\nprint(\"First view shape = \" + str(partial_data[0].shape))\nprint(\"Labels shape = \" + str(partial_labels.shape))\n\nquick_visualize(partial_data, labels=partial_labels, title=\"2-class data\")"
      ]
    }
  ],
  "metadata": {
    "kernelspec": {
      "display_name": "Python 3",
      "language": "python",
      "name": "python3"
    },
    "language_info": {
      "codemirror_mode": {
        "name": "ipython",
        "version": 3
      },
      "file_extension": ".py",
      "mimetype": "text/x-python",
      "name": "python",
      "nbconvert_exporter": "python",
      "pygments_lexer": "ipython3",
      "version": "3.7.9"
    }
  },
  "nbformat": 4,
  "nbformat_minor": 0
}