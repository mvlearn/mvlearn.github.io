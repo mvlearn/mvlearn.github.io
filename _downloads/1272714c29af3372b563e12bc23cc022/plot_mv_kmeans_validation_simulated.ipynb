{
  "cells": [
    {
      "cell_type": "code",
      "execution_count": null,
      "metadata": {
        "collapsed": false
      },
      "outputs": [],
      "source": [
        "%matplotlib inline"
      ]
    },
    {
      "cell_type": "markdown",
      "metadata": {},
      "source": [
        "\n# Multiview vs. Singleview KMeans\n\nThis tutorial compares the multiview and singleview k-means algorithms on\nsynthetic data to build intuition about what types of data distributions\nallow the multiview version of the algorithm to perform well.\n"
      ]
    },
    {
      "cell_type": "code",
      "execution_count": null,
      "metadata": {
        "collapsed": false
      },
      "outputs": [],
      "source": [
        "# License: MIT\n\nimport warnings\nimport numpy as np\nimport matplotlib.pyplot as plt\nfrom sklearn.cluster import KMeans\nfrom sklearn.metrics import normalized_mutual_info_score as nmi_score\nfrom mvlearn.cluster import MultiviewKMeans\n\nwarnings.filterwarnings(\"ignore\")\nRANDOM_SEED = 10"
      ]
    },
    {
      "cell_type": "markdown",
      "metadata": {},
      "source": [
        "## A function to generate 2 views of data for 2 classes\n\nThis function takes parameters for means, variances, and number of samples\nfor class and generates data based on those parameters. The underlying\nprobability distribution of the data is a multivariate gaussian distribution.\n\n"
      ]
    },
    {
      "cell_type": "code",
      "execution_count": null,
      "metadata": {
        "collapsed": false
      },
      "outputs": [],
      "source": [
        "def create_data(seed, vmeans, vvars, num_per_class=500):\n\n    np.random.seed(seed)\n    data = [[], []]\n\n    for view in range(2):\n        for comp in range(len(vmeans[0])):\n            cov = np.eye(2) * vvars[view][comp]\n            comp_samples = np.random.multivariate_normal(vmeans[view][comp],\n                                                         cov,\n                                                         size=num_per_class)\n            data[view].append(comp_samples)\n\n    for view in range(2):\n        data[view] = np.vstack(data[view])\n\n    labels = list()\n    for ind in range(len(vmeans[0])):\n        labels.append(ind * np.ones(num_per_class,))\n\n    labels = np.concatenate(labels)\n\n    return data, labels"
      ]
    },
    {
      "cell_type": "markdown",
      "metadata": {},
      "source": [
        "## Creating a function to display data and the results of clustering\n\nThe following function plots both views of data given a dataset and\ncorresponding labels.\n\n"
      ]
    },
    {
      "cell_type": "code",
      "execution_count": null,
      "metadata": {
        "collapsed": false
      },
      "outputs": [],
      "source": [
        "def display_plots(pre_title, data, labels):\n\n    # plot the views\n    fig, ax = plt.subplots(1, 2, figsize=(14, 5))\n    dot_size = 10\n    ax[0].scatter(data[0][:, 0], data[0][:, 1], c=labels, s=dot_size)\n    ax[0].set_title(pre_title + ' View 1')\n    ax[0].axes.get_xaxis().set_visible(False)\n    ax[0].axes.get_yaxis().set_visible(False)\n\n    ax[1].scatter(data[1][:, 0], data[1][:, 1], c=labels, s=dot_size)\n    ax[1].set_title(pre_title + ' View 2')\n    ax[1].axes.get_xaxis().set_visible(False)\n    ax[1].axes.get_yaxis().set_visible(False)\n\n    plt.show()"
      ]
    },
    {
      "cell_type": "markdown",
      "metadata": {},
      "source": [
        "Creating a function to perform both singleview and multiview kmeans\nclustering\n\n\n"
      ]
    },
    {
      "cell_type": "code",
      "execution_count": null,
      "metadata": {
        "collapsed": false
      },
      "outputs": [],
      "source": [
        "def perform_clustering(seed, m_data, labels, n_clusters):\n    # Singleview kmeans clustering\n    # Cluster each view separately\n    s_kmeans = KMeans(n_clusters=n_clusters, random_state=seed, n_init=100)\n    s_clusters_v1 = s_kmeans.fit_predict(m_data[0])\n    s_clusters_v2 = s_kmeans.fit_predict(m_data[1])\n\n    # Concatenate the multiple views into a single view\n    s_data = np.hstack(m_data)\n    s_clusters = s_kmeans.fit_predict(s_data)\n\n    # Compute nmi between true class labels and singleview cluster labels\n    s_nmi_v1 = nmi_score(labels, s_clusters_v1)\n    s_nmi_v2 = nmi_score(labels, s_clusters_v2)\n    s_nmi = nmi_score(labels, s_clusters)\n    print('Singleview View 1 NMI Score: {0:.3f}\\n'.format(s_nmi_v1))\n    print('Singleview View 2 NMI Score: {0:.3f}\\n'.format(s_nmi_v2))\n    print('Singleview Concatenated NMI Score: {0:.3f}\\n'.format(s_nmi))\n\n    # Multiview kmeans clustering\n\n    # Use the MultiviewKMeans instance to cluster the data\n    m_kmeans = MultiviewKMeans(n_clusters=n_clusters,\n                               n_init=100, random_state=seed)\n    m_clusters = m_kmeans.fit_predict(m_data)\n\n    # Compute nmi between true class labels and multiview cluster labels\n    m_nmi = nmi_score(labels, m_clusters)\n    print('Multiview NMI Score: {0:.3f}\\n'.format(m_nmi))\n\n    return m_clusters"
      ]
    },
    {
      "cell_type": "markdown",
      "metadata": {},
      "source": [
        "## General experimentation procedures\n\nFor each of the experiments below, we run both singleview kmeans clustering\nand multiview kmeans clustering. For evaluating singleview performance, we\nrun the algorithm on each view separately as well as all views concatenated\ntogether. We evalaute performance using normalized mutual information, which\nis a measure of cluster purity with respect to the true labels. For both\nalgorithms, we use an n_init value of 100, which means that we run each\nalgorithm across 100 random cluster initializations and select the best\nclustering results with respect to cluster inertia (within cluster sum-of-\nsquared distances).\n\n"
      ]
    },
    {
      "cell_type": "markdown",
      "metadata": {},
      "source": [
        "## Performance when cluster components in both views are well separated\n\nCluster components 1:\n* Mean: [3, 3] (both views)\n* Covariance = I (both views)\n\nCluster components 2:\n* Mean = [0, 0] (both views)\n* Covariance = I (both views)\n\nAs we can see, multiview kmeans clustering performs about as well as\nsingleview kmeans clustering for the concatenated views, and both of these\nperform better than on singleview clustering for just one view.\n\n"
      ]
    },
    {
      "cell_type": "code",
      "execution_count": null,
      "metadata": {
        "collapsed": false
      },
      "outputs": [],
      "source": [
        "v1_means = [[3, 3], [0, 0]]\nv2_means = [[3, 3], [0, 0]]\nv1_vars = [1, 1]\nv2_vars = [1, 1]\nvmeans = [v1_means, v2_means]\nvvars = [v1_vars, v2_vars]\n\ndata, labels = create_data(RANDOM_SEED, vmeans, vvars)\nm_clusters = perform_clustering(RANDOM_SEED, data, labels, 2)\ndisplay_plots('Ground Truth', data, labels)\ndisplay_plots('Multiview Clustering', data, m_clusters)"
      ]
    },
    {
      "cell_type": "markdown",
      "metadata": {},
      "source": [
        "Performance when cluster components are relatively inseparable (highly\noverlapping) in both views\n\nCluster components 1:\n* Mean: [0.5, 0.5] (both views)\n* Covariance = I (both views)\n\nCluster components 2:\n* Mean = [0, 0] (both views)\n* Covariance = I (both views)\n\nAs we can see, multiview kmeans clustering performs about as poorly as\nsingleview kmeans clustering across both individual views and concatenated\nviews as inputs.\n\n"
      ]
    },
    {
      "cell_type": "code",
      "execution_count": null,
      "metadata": {
        "collapsed": false
      },
      "outputs": [],
      "source": [
        "v1_means = [[0.5, 0.5], [0, 0]]\nv2_means = [[0.5, 0.5], [0, 0]]\nv1_vars = [1, 1]\nv2_vars = [1, 1]\nvmeans = [v1_means, v2_means]\nvvars = [v1_vars, v2_vars]\n\ndata, labels = create_data(RANDOM_SEED, vmeans, vvars)\nm_clusters = perform_clustering(RANDOM_SEED, data, labels, 2)\ndisplay_plots('Ground Truth', data, labels)\ndisplay_plots('Multiview Clustering', data, m_clusters)"
      ]
    },
    {
      "cell_type": "markdown",
      "metadata": {},
      "source": [
        "Performance when cluster components are somewhat separable (somewhat\noverlapping) in both views\n\nCluster components 1:\n* Mean: [1.5, 1.5] (both views)\n* Covariance = I (both views)\n\nCluster components 2:\n* Mean = [0, 0] (both views)\n* Covariance = I (both views)\n\n\nAgain we can see that multiview kmeans clustering performs about as well as\nsingleview kmeans clustering for the concatenated views, and both of these\nperform better than on singleview clustering for just one view.\n\n"
      ]
    },
    {
      "cell_type": "code",
      "execution_count": null,
      "metadata": {
        "collapsed": false
      },
      "outputs": [],
      "source": [
        "v1_means = [[1.5, 1.5], [0, 0]]\nv2_means = [[1.5, 1.5], [0, 0]]\nv1_vars = [1, 1]\nv2_vars = [1, 1]\nvmeans = [v1_means, v2_means]\nvvars = [v1_vars, v2_vars]\n\ndata, labels = create_data(RANDOM_SEED, vmeans, vvars)\nm_clusters = perform_clustering(RANDOM_SEED, data, labels, 2)\ndisplay_plots('Ground Truth', data, labels)\ndisplay_plots('Multiview Clustering', data, m_clusters)"
      ]
    },
    {
      "cell_type": "markdown",
      "metadata": {},
      "source": [
        "## Performance when cluster components are highly overlapping in one view\n\nCluster components 1:\n* Mean: View 1 = [0.5, 0.5], View 2 = [2, 2]\n* Covariance = I (both views)\n\nCluster components 2:\n* Mean = [0, 0] (both views)\n* Covariance = I (both views)\n\nAs we can see, multiview kmeans clustering performs worse than singleview\nkmeans clustering with concatenated views as inputs and with the best view as\nthe input.\n\n"
      ]
    },
    {
      "cell_type": "code",
      "execution_count": null,
      "metadata": {
        "collapsed": false
      },
      "outputs": [],
      "source": [
        "v1_means = [[0.5, 0.5], [0, 0]]\nv2_means = [[2, 2], [0, 0]]\nv1_vars = [1, 1]\nv2_vars = [1, 1]\nvmeans = [v1_means, v2_means]\nvvars = [v1_vars, v2_vars]\n\ndata, labels = create_data(RANDOM_SEED, vmeans, vvars)\nm_clusters = perform_clustering(RANDOM_SEED, data, labels, 2)\ndisplay_plots('Ground Truth', data, labels)\ndisplay_plots('Multiview Clustering', data, m_clusters)"
      ]
    },
    {
      "cell_type": "markdown",
      "metadata": {},
      "source": [
        "## Conclusions\n\nHere, we have seen some of the limitations of multiview kmeans clustering.\nFrom the experiments above, it is apparent that multiview kmeans clustering\nperforms equally as well or worse than singleview kmeans clustering on\nconcatenated data when views are informative but the data is fairly simple\n(i.e. only has 2 features per view). However, it is clear that the multiview\nkmeans algorithm does perform better on well separated cluster components\nthan it does on highly overlapping cluster components, which does validate\nit's basic functionality as a clustering algorithm.\n\n"
      ]
    }
  ],
  "metadata": {
    "kernelspec": {
      "display_name": "Python 3",
      "language": "python",
      "name": "python3"
    },
    "language_info": {
      "codemirror_mode": {
        "name": "ipython",
        "version": 3
      },
      "file_extension": ".py",
      "mimetype": "text/x-python",
      "name": "python",
      "nbconvert_exporter": "python",
      "pygments_lexer": "ipython3",
      "version": "3.7.10"
    }
  },
  "nbformat": 4,
  "nbformat_minor": 0
}